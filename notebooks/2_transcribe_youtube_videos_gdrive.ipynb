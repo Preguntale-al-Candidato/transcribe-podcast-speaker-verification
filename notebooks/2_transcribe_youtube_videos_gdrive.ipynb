{
  "nbformat": 4,
  "nbformat_minor": 0,
  "metadata": {
    "colab": {
      "provenance": [],
      "collapsed_sections": [
        "RxxNYfrT8MHh"
      ]
    },
    "kernelspec": {
      "name": "python3",
      "display_name": "Python 3"
    },
    "language_info": {
      "name": "python"
    },
    "accelerator": "GPU",
    "gpuClass": "standard"
  },
  "cells": [
    {
      "cell_type": "markdown",
      "source": [
        "# 🧉 Transcribir videos de Youtube e identificar diferentes agentes en la conversación\n",
        "- Inspirado por **machinelearnear** 📺 https://www.youtube.com/c/machinelearnear\n",
        "\n",
        "* Es requisito montar Google Drive para usarlo como storage persistente.  \n",
        "Esta es la carpeta compartida: ['preguntale-al-candidato'](https://drive.google.com/drive/folders/1HKcNUU_Ws8VJnlg5O4r8WUrbuHwu9P84?usp=sharing)"
      ],
      "metadata": {
        "id": "3TkBM6oS7ROk"
      }
    },
    {
      "cell_type": "markdown",
      "source": [
        "### instalar dependencias"
      ],
      "metadata": {
        "id": "RxxNYfrT8MHh"
      }
    },
    {
      "cell_type": "code",
      "execution_count": null,
      "metadata": {
        "id": "psb7KUiJ6dwk",
        "colab": {
          "base_uri": "https://localhost:8080/"
        },
        "outputId": "fdafe4c3-d2da-4c8f-dc37-edad37f2b69e"
      },
      "outputs": [
        {
          "output_type": "stream",
          "name": "stdout",
          "text": [
            "Collecting git+https://github.com/m-bain/whisperx.git\n",
            "  Cloning https://github.com/m-bain/whisperx.git to /tmp/pip-req-build-ebevv07j\n",
            "  Running command git clone --filter=blob:none --quiet https://github.com/m-bain/whisperx.git /tmp/pip-req-build-ebevv07j\n",
            "  Resolved https://github.com/m-bain/whisperx.git to commit ef965a03edd42f4c61b41e0d46d35567555d3539\n",
            "  Preparing metadata (setup.py) ... \u001b[?25l\u001b[?25hdone\n",
            "Collecting pyannote.audio@ git+https://github.com/pyannote/pyannote-audio@11b56a137a578db9335efc00298f6ec1932e6317 (from whisperx==3.1.1)\n",
            "  Using cached pyannote.audio-2.1.1-py2.py3-none-any.whl\n",
            "Requirement already satisfied: torch>=2 in /usr/local/lib/python3.10/dist-packages (from whisperx==3.1.1) (2.0.1+cu118)\n",
            "Requirement already satisfied: torchaudio>=2 in /usr/local/lib/python3.10/dist-packages (from whisperx==3.1.1) (2.0.2+cu118)\n",
            "Requirement already satisfied: faster-whisper in /usr/local/lib/python3.10/dist-packages (from whisperx==3.1.1) (0.7.1)\n",
            "Requirement already satisfied: transformers in /usr/local/lib/python3.10/dist-packages (from whisperx==3.1.1) (4.32.0)\n",
            "Requirement already satisfied: ffmpeg-python>=0.2 in /usr/local/lib/python3.10/dist-packages (from whisperx==3.1.1) (0.2.0)\n",
            "Requirement already satisfied: pandas in /usr/local/lib/python3.10/dist-packages (from whisperx==3.1.1) (1.5.3)\n",
            "Requirement already satisfied: setuptools>=65 in /usr/local/lib/python3.10/dist-packages (from whisperx==3.1.1) (67.7.2)\n",
            "Requirement already satisfied: nltk in /usr/local/lib/python3.10/dist-packages (from whisperx==3.1.1) (3.8.1)\n",
            "Requirement already satisfied: future in /usr/local/lib/python3.10/dist-packages (from ffmpeg-python>=0.2->whisperx==3.1.1) (0.18.3)\n",
            "Requirement already satisfied: filelock in /usr/local/lib/python3.10/dist-packages (from torch>=2->whisperx==3.1.1) (3.12.2)\n",
            "Requirement already satisfied: typing-extensions in /usr/local/lib/python3.10/dist-packages (from torch>=2->whisperx==3.1.1) (4.7.1)\n",
            "Requirement already satisfied: sympy in /usr/local/lib/python3.10/dist-packages (from torch>=2->whisperx==3.1.1) (1.12)\n",
            "Requirement already satisfied: networkx in /usr/local/lib/python3.10/dist-packages (from torch>=2->whisperx==3.1.1) (3.1)\n",
            "Requirement already satisfied: jinja2 in /usr/local/lib/python3.10/dist-packages (from torch>=2->whisperx==3.1.1) (3.1.2)\n",
            "Requirement already satisfied: triton==2.0.0 in /usr/local/lib/python3.10/dist-packages (from torch>=2->whisperx==3.1.1) (2.0.0)\n",
            "Requirement already satisfied: cmake in /usr/local/lib/python3.10/dist-packages (from triton==2.0.0->torch>=2->whisperx==3.1.1) (3.27.2)\n",
            "Requirement already satisfied: lit in /usr/local/lib/python3.10/dist-packages (from triton==2.0.0->torch>=2->whisperx==3.1.1) (16.0.6)\n",
            "Requirement already satisfied: av==10.* in /usr/local/lib/python3.10/dist-packages (from faster-whisper->whisperx==3.1.1) (10.0.0)\n",
            "Requirement already satisfied: ctranslate2<4,>=3.17 in /usr/local/lib/python3.10/dist-packages (from faster-whisper->whisperx==3.1.1) (3.18.0)\n",
            "Requirement already satisfied: huggingface-hub>=0.13 in /usr/local/lib/python3.10/dist-packages (from faster-whisper->whisperx==3.1.1) (0.16.4)\n",
            "Requirement already satisfied: tokenizers==0.13.* in /usr/local/lib/python3.10/dist-packages (from faster-whisper->whisperx==3.1.1) (0.13.3)\n",
            "Requirement already satisfied: onnxruntime<2,>=1.14 in /usr/local/lib/python3.10/dist-packages (from faster-whisper->whisperx==3.1.1) (1.15.1)\n",
            "Requirement already satisfied: click in /usr/local/lib/python3.10/dist-packages (from nltk->whisperx==3.1.1) (8.1.7)\n",
            "Requirement already satisfied: joblib in /usr/local/lib/python3.10/dist-packages (from nltk->whisperx==3.1.1) (1.3.2)\n",
            "Requirement already satisfied: regex>=2021.8.3 in /usr/local/lib/python3.10/dist-packages (from nltk->whisperx==3.1.1) (2023.6.3)\n",
            "Requirement already satisfied: tqdm in /usr/local/lib/python3.10/dist-packages (from nltk->whisperx==3.1.1) (4.66.1)\n",
            "Requirement already satisfied: python-dateutil>=2.8.1 in /usr/local/lib/python3.10/dist-packages (from pandas->whisperx==3.1.1) (2.8.2)\n",
            "Requirement already satisfied: pytz>=2020.1 in /usr/local/lib/python3.10/dist-packages (from pandas->whisperx==3.1.1) (2023.3)\n",
            "Requirement already satisfied: numpy>=1.21.0 in /usr/local/lib/python3.10/dist-packages (from pandas->whisperx==3.1.1) (1.23.5)\n",
            "Requirement already satisfied: asteroid-filterbanks>=0.4 in /usr/local/lib/python3.10/dist-packages (from pyannote.audio@ git+https://github.com/pyannote/pyannote-audio@11b56a137a578db9335efc00298f6ec1932e6317->whisperx==3.1.1) (0.4.0)\n",
            "Requirement already satisfied: einops>=0.6.0 in /usr/local/lib/python3.10/dist-packages (from pyannote.audio@ git+https://github.com/pyannote/pyannote-audio@11b56a137a578db9335efc00298f6ec1932e6317->whisperx==3.1.1) (0.6.1)\n",
            "Requirement already satisfied: lightning>=2.0.1 in /usr/local/lib/python3.10/dist-packages (from pyannote.audio@ git+https://github.com/pyannote/pyannote-audio@11b56a137a578db9335efc00298f6ec1932e6317->whisperx==3.1.1) (2.0.7)\n",
            "Requirement already satisfied: omegaconf<3.0,>=2.1 in /usr/local/lib/python3.10/dist-packages (from pyannote.audio@ git+https://github.com/pyannote/pyannote-audio@11b56a137a578db9335efc00298f6ec1932e6317->whisperx==3.1.1) (2.3.0)\n",
            "Requirement already satisfied: pyannote.core>=5.0.0 in /usr/local/lib/python3.10/dist-packages (from pyannote.audio@ git+https://github.com/pyannote/pyannote-audio@11b56a137a578db9335efc00298f6ec1932e6317->whisperx==3.1.1) (5.0.0)\n",
            "Requirement already satisfied: pyannote.database>=5.0.1 in /usr/local/lib/python3.10/dist-packages (from pyannote.audio@ git+https://github.com/pyannote/pyannote-audio@11b56a137a578db9335efc00298f6ec1932e6317->whisperx==3.1.1) (5.0.1)\n",
            "Requirement already satisfied: pyannote.metrics>=3.2 in /usr/local/lib/python3.10/dist-packages (from pyannote.audio@ git+https://github.com/pyannote/pyannote-audio@11b56a137a578db9335efc00298f6ec1932e6317->whisperx==3.1.1) (3.2.1)\n",
            "Requirement already satisfied: pyannote.pipeline>=2.3 in /usr/local/lib/python3.10/dist-packages (from pyannote.audio@ git+https://github.com/pyannote/pyannote-audio@11b56a137a578db9335efc00298f6ec1932e6317->whisperx==3.1.1) (2.3)\n",
            "Requirement already satisfied: pytorch-metric-learning>=2.1.0 in /usr/local/lib/python3.10/dist-packages (from pyannote.audio@ git+https://github.com/pyannote/pyannote-audio@11b56a137a578db9335efc00298f6ec1932e6317->whisperx==3.1.1) (2.3.0)\n",
            "Requirement already satisfied: rich>=12.0.0 in /usr/local/lib/python3.10/dist-packages (from pyannote.audio@ git+https://github.com/pyannote/pyannote-audio@11b56a137a578db9335efc00298f6ec1932e6317->whisperx==3.1.1) (13.5.2)\n",
            "Requirement already satisfied: semver>=3.0.0 in /usr/local/lib/python3.10/dist-packages (from pyannote.audio@ git+https://github.com/pyannote/pyannote-audio@11b56a137a578db9335efc00298f6ec1932e6317->whisperx==3.1.1) (3.0.1)\n",
            "Requirement already satisfied: soundfile>=0.12.1 in /usr/local/lib/python3.10/dist-packages (from pyannote.audio@ git+https://github.com/pyannote/pyannote-audio@11b56a137a578db9335efc00298f6ec1932e6317->whisperx==3.1.1) (0.12.1)\n",
            "Requirement already satisfied: speechbrain>=0.5.14 in /usr/local/lib/python3.10/dist-packages (from pyannote.audio@ git+https://github.com/pyannote/pyannote-audio@11b56a137a578db9335efc00298f6ec1932e6317->whisperx==3.1.1) (0.5.15)\n",
            "Requirement already satisfied: tensorboardX>=2.6 in /usr/local/lib/python3.10/dist-packages (from pyannote.audio@ git+https://github.com/pyannote/pyannote-audio@11b56a137a578db9335efc00298f6ec1932e6317->whisperx==3.1.1) (2.6.2.2)\n",
            "Requirement already satisfied: torch-audiomentations>=0.11.0 in /usr/local/lib/python3.10/dist-packages (from pyannote.audio@ git+https://github.com/pyannote/pyannote-audio@11b56a137a578db9335efc00298f6ec1932e6317->whisperx==3.1.1) (0.11.0)\n",
            "Requirement already satisfied: torchmetrics>=0.11.0 in /usr/local/lib/python3.10/dist-packages (from pyannote.audio@ git+https://github.com/pyannote/pyannote-audio@11b56a137a578db9335efc00298f6ec1932e6317->whisperx==3.1.1) (1.1.0)\n",
            "Requirement already satisfied: packaging>=20.0 in /usr/local/lib/python3.10/dist-packages (from transformers->whisperx==3.1.1) (23.1)\n",
            "Requirement already satisfied: pyyaml>=5.1 in /usr/local/lib/python3.10/dist-packages (from transformers->whisperx==3.1.1) (6.0.1)\n",
            "Requirement already satisfied: requests in /usr/local/lib/python3.10/dist-packages (from transformers->whisperx==3.1.1) (2.31.0)\n",
            "Requirement already satisfied: safetensors>=0.3.1 in /usr/local/lib/python3.10/dist-packages (from transformers->whisperx==3.1.1) (0.3.3)\n",
            "Requirement already satisfied: fsspec in /usr/local/lib/python3.10/dist-packages (from huggingface-hub>=0.13->faster-whisper->whisperx==3.1.1) (2023.6.0)\n",
            "Requirement already satisfied: arrow<3.0,>=1.2.0 in /usr/local/lib/python3.10/dist-packages (from lightning>=2.0.1->pyannote.audio@ git+https://github.com/pyannote/pyannote-audio@11b56a137a578db9335efc00298f6ec1932e6317->whisperx==3.1.1) (1.2.3)\n",
            "Requirement already satisfied: backoff<4.0,>=2.2.1 in /usr/local/lib/python3.10/dist-packages (from lightning>=2.0.1->pyannote.audio@ git+https://github.com/pyannote/pyannote-audio@11b56a137a578db9335efc00298f6ec1932e6317->whisperx==3.1.1) (2.2.1)\n",
            "Requirement already satisfied: beautifulsoup4<6.0,>=4.8.0 in /usr/local/lib/python3.10/dist-packages (from lightning>=2.0.1->pyannote.audio@ git+https://github.com/pyannote/pyannote-audio@11b56a137a578db9335efc00298f6ec1932e6317->whisperx==3.1.1) (4.11.2)\n",
            "Requirement already satisfied: croniter<1.5.0,>=1.3.0 in /usr/local/lib/python3.10/dist-packages (from lightning>=2.0.1->pyannote.audio@ git+https://github.com/pyannote/pyannote-audio@11b56a137a578db9335efc00298f6ec1932e6317->whisperx==3.1.1) (1.4.1)\n",
            "Requirement already satisfied: dateutils<2.0 in /usr/local/lib/python3.10/dist-packages (from lightning>=2.0.1->pyannote.audio@ git+https://github.com/pyannote/pyannote-audio@11b56a137a578db9335efc00298f6ec1932e6317->whisperx==3.1.1) (0.6.12)\n",
            "Requirement already satisfied: deepdiff<8.0,>=5.7.0 in /usr/local/lib/python3.10/dist-packages (from lightning>=2.0.1->pyannote.audio@ git+https://github.com/pyannote/pyannote-audio@11b56a137a578db9335efc00298f6ec1932e6317->whisperx==3.1.1) (6.3.1)\n",
            "Requirement already satisfied: fastapi<2.0,>=0.92.0 in /usr/local/lib/python3.10/dist-packages (from lightning>=2.0.1->pyannote.audio@ git+https://github.com/pyannote/pyannote-audio@11b56a137a578db9335efc00298f6ec1932e6317->whisperx==3.1.1) (0.102.0)\n",
            "Requirement already satisfied: inquirer<5.0,>=2.10.0 in /usr/local/lib/python3.10/dist-packages (from lightning>=2.0.1->pyannote.audio@ git+https://github.com/pyannote/pyannote-audio@11b56a137a578db9335efc00298f6ec1932e6317->whisperx==3.1.1) (3.1.3)\n",
            "Requirement already satisfied: lightning-cloud>=0.5.37 in /usr/local/lib/python3.10/dist-packages (from lightning>=2.0.1->pyannote.audio@ git+https://github.com/pyannote/pyannote-audio@11b56a137a578db9335efc00298f6ec1932e6317->whisperx==3.1.1) (0.5.37)\n",
            "Requirement already satisfied: lightning-utilities<2.0,>=0.7.0 in /usr/local/lib/python3.10/dist-packages (from lightning>=2.0.1->pyannote.audio@ git+https://github.com/pyannote/pyannote-audio@11b56a137a578db9335efc00298f6ec1932e6317->whisperx==3.1.1) (0.9.0)\n",
            "Requirement already satisfied: psutil<7.0 in /usr/local/lib/python3.10/dist-packages (from lightning>=2.0.1->pyannote.audio@ git+https://github.com/pyannote/pyannote-audio@11b56a137a578db9335efc00298f6ec1932e6317->whisperx==3.1.1) (5.9.5)\n",
            "Requirement already satisfied: pydantic<2.2.0,>=1.7.4 in /usr/local/lib/python3.10/dist-packages (from lightning>=2.0.1->pyannote.audio@ git+https://github.com/pyannote/pyannote-audio@11b56a137a578db9335efc00298f6ec1932e6317->whisperx==3.1.1) (2.1.1)\n",
            "Requirement already satisfied: python-multipart<2.0,>=0.0.5 in /usr/local/lib/python3.10/dist-packages (from lightning>=2.0.1->pyannote.audio@ git+https://github.com/pyannote/pyannote-audio@11b56a137a578db9335efc00298f6ec1932e6317->whisperx==3.1.1) (0.0.6)\n",
            "Requirement already satisfied: starlette in /usr/local/lib/python3.10/dist-packages (from lightning>=2.0.1->pyannote.audio@ git+https://github.com/pyannote/pyannote-audio@11b56a137a578db9335efc00298f6ec1932e6317->whisperx==3.1.1) (0.27.0)\n",
            "Requirement already satisfied: starsessions<2.0,>=1.2.1 in /usr/local/lib/python3.10/dist-packages (from lightning>=2.0.1->pyannote.audio@ git+https://github.com/pyannote/pyannote-audio@11b56a137a578db9335efc00298f6ec1932e6317->whisperx==3.1.1) (1.3.0)\n",
            "Requirement already satisfied: traitlets<7.0,>=5.3.0 in /usr/local/lib/python3.10/dist-packages (from lightning>=2.0.1->pyannote.audio@ git+https://github.com/pyannote/pyannote-audio@11b56a137a578db9335efc00298f6ec1932e6317->whisperx==3.1.1) (5.7.1)\n",
            "Requirement already satisfied: urllib3<4.0 in /usr/local/lib/python3.10/dist-packages (from lightning>=2.0.1->pyannote.audio@ git+https://github.com/pyannote/pyannote-audio@11b56a137a578db9335efc00298f6ec1932e6317->whisperx==3.1.1) (2.0.4)\n",
            "Requirement already satisfied: uvicorn<2.0 in /usr/local/lib/python3.10/dist-packages (from lightning>=2.0.1->pyannote.audio@ git+https://github.com/pyannote/pyannote-audio@11b56a137a578db9335efc00298f6ec1932e6317->whisperx==3.1.1) (0.23.2)\n",
            "Requirement already satisfied: websocket-client<3.0 in /usr/local/lib/python3.10/dist-packages (from lightning>=2.0.1->pyannote.audio@ git+https://github.com/pyannote/pyannote-audio@11b56a137a578db9335efc00298f6ec1932e6317->whisperx==3.1.1) (1.6.2)\n",
            "Requirement already satisfied: websockets<13.0 in /usr/local/lib/python3.10/dist-packages (from lightning>=2.0.1->pyannote.audio@ git+https://github.com/pyannote/pyannote-audio@11b56a137a578db9335efc00298f6ec1932e6317->whisperx==3.1.1) (11.0.3)\n",
            "Requirement already satisfied: pytorch-lightning in /usr/local/lib/python3.10/dist-packages (from lightning>=2.0.1->pyannote.audio@ git+https://github.com/pyannote/pyannote-audio@11b56a137a578db9335efc00298f6ec1932e6317->whisperx==3.1.1) (2.0.7)\n",
            "Requirement already satisfied: MarkupSafe>=2.0 in /usr/local/lib/python3.10/dist-packages (from jinja2->torch>=2->whisperx==3.1.1) (2.1.3)\n",
            "Requirement already satisfied: antlr4-python3-runtime==4.9.* in /usr/local/lib/python3.10/dist-packages (from omegaconf<3.0,>=2.1->pyannote.audio@ git+https://github.com/pyannote/pyannote-audio@11b56a137a578db9335efc00298f6ec1932e6317->whisperx==3.1.1) (4.9.3)\n",
            "Requirement already satisfied: coloredlogs in /usr/local/lib/python3.10/dist-packages (from onnxruntime<2,>=1.14->faster-whisper->whisperx==3.1.1) (15.0.1)\n",
            "Requirement already satisfied: flatbuffers in /usr/local/lib/python3.10/dist-packages (from onnxruntime<2,>=1.14->faster-whisper->whisperx==3.1.1) (23.5.26)\n",
            "Requirement already satisfied: protobuf in /usr/local/lib/python3.10/dist-packages (from onnxruntime<2,>=1.14->faster-whisper->whisperx==3.1.1) (3.20.3)\n",
            "Requirement already satisfied: sortedcontainers>=2.0.4 in /usr/local/lib/python3.10/dist-packages (from pyannote.core>=5.0.0->pyannote.audio@ git+https://github.com/pyannote/pyannote-audio@11b56a137a578db9335efc00298f6ec1932e6317->whisperx==3.1.1) (2.4.0)\n",
            "Requirement already satisfied: scipy>=1.1 in /usr/local/lib/python3.10/dist-packages (from pyannote.core>=5.0.0->pyannote.audio@ git+https://github.com/pyannote/pyannote-audio@11b56a137a578db9335efc00298f6ec1932e6317->whisperx==3.1.1) (1.10.1)\n",
            "Requirement already satisfied: typer[all]>=0.2.1 in /usr/local/lib/python3.10/dist-packages (from pyannote.database>=5.0.1->pyannote.audio@ git+https://github.com/pyannote/pyannote-audio@11b56a137a578db9335efc00298f6ec1932e6317->whisperx==3.1.1) (0.9.0)\n",
            "Requirement already satisfied: scikit-learn>=0.17.1 in /usr/local/lib/python3.10/dist-packages (from pyannote.metrics>=3.2->pyannote.audio@ git+https://github.com/pyannote/pyannote-audio@11b56a137a578db9335efc00298f6ec1932e6317->whisperx==3.1.1) (1.2.2)\n",
            "Requirement already satisfied: docopt>=0.6.2 in /usr/local/lib/python3.10/dist-packages (from pyannote.metrics>=3.2->pyannote.audio@ git+https://github.com/pyannote/pyannote-audio@11b56a137a578db9335efc00298f6ec1932e6317->whisperx==3.1.1) (0.6.2)\n",
            "Requirement already satisfied: tabulate>=0.7.7 in /usr/local/lib/python3.10/dist-packages (from pyannote.metrics>=3.2->pyannote.audio@ git+https://github.com/pyannote/pyannote-audio@11b56a137a578db9335efc00298f6ec1932e6317->whisperx==3.1.1) (0.9.0)\n",
            "Requirement already satisfied: matplotlib>=2.0.0 in /usr/local/lib/python3.10/dist-packages (from pyannote.metrics>=3.2->pyannote.audio@ git+https://github.com/pyannote/pyannote-audio@11b56a137a578db9335efc00298f6ec1932e6317->whisperx==3.1.1) (3.7.1)\n",
            "Requirement already satisfied: optuna>=1.4 in /usr/local/lib/python3.10/dist-packages (from pyannote.pipeline>=2.3->pyannote.audio@ git+https://github.com/pyannote/pyannote-audio@11b56a137a578db9335efc00298f6ec1932e6317->whisperx==3.1.1) (3.3.0)\n",
            "Requirement already satisfied: six>=1.5 in /usr/local/lib/python3.10/dist-packages (from python-dateutil>=2.8.1->pandas->whisperx==3.1.1) (1.16.0)\n",
            "Requirement already satisfied: charset-normalizer<4,>=2 in /usr/local/lib/python3.10/dist-packages (from requests->transformers->whisperx==3.1.1) (3.2.0)\n",
            "Requirement already satisfied: idna<4,>=2.5 in /usr/local/lib/python3.10/dist-packages (from requests->transformers->whisperx==3.1.1) (3.4)\n",
            "Requirement already satisfied: certifi>=2017.4.17 in /usr/local/lib/python3.10/dist-packages (from requests->transformers->whisperx==3.1.1) (2023.7.22)\n",
            "Requirement already satisfied: markdown-it-py>=2.2.0 in /usr/local/lib/python3.10/dist-packages (from rich>=12.0.0->pyannote.audio@ git+https://github.com/pyannote/pyannote-audio@11b56a137a578db9335efc00298f6ec1932e6317->whisperx==3.1.1) (3.0.0)\n",
            "Requirement already satisfied: pygments<3.0.0,>=2.13.0 in /usr/local/lib/python3.10/dist-packages (from rich>=12.0.0->pyannote.audio@ git+https://github.com/pyannote/pyannote-audio@11b56a137a578db9335efc00298f6ec1932e6317->whisperx==3.1.1) (2.16.1)\n",
            "Requirement already satisfied: cffi>=1.0 in /usr/local/lib/python3.10/dist-packages (from soundfile>=0.12.1->pyannote.audio@ git+https://github.com/pyannote/pyannote-audio@11b56a137a578db9335efc00298f6ec1932e6317->whisperx==3.1.1) (1.15.1)\n",
            "Requirement already satisfied: hyperpyyaml in /usr/local/lib/python3.10/dist-packages (from speechbrain>=0.5.14->pyannote.audio@ git+https://github.com/pyannote/pyannote-audio@11b56a137a578db9335efc00298f6ec1932e6317->whisperx==3.1.1) (1.2.1)\n",
            "Requirement already satisfied: sentencepiece in /usr/local/lib/python3.10/dist-packages (from speechbrain>=0.5.14->pyannote.audio@ git+https://github.com/pyannote/pyannote-audio@11b56a137a578db9335efc00298f6ec1932e6317->whisperx==3.1.1) (0.1.99)\n",
            "Requirement already satisfied: mpmath>=0.19 in /usr/local/lib/python3.10/dist-packages (from sympy->torch>=2->whisperx==3.1.1) (1.3.0)\n",
            "Requirement already satisfied: julius<0.3,>=0.2.3 in /usr/local/lib/python3.10/dist-packages (from torch-audiomentations>=0.11.0->pyannote.audio@ git+https://github.com/pyannote/pyannote-audio@11b56a137a578db9335efc00298f6ec1932e6317->whisperx==3.1.1) (0.2.7)\n",
            "Requirement already satisfied: librosa>=0.6.0 in /usr/local/lib/python3.10/dist-packages (from torch-audiomentations>=0.11.0->pyannote.audio@ git+https://github.com/pyannote/pyannote-audio@11b56a137a578db9335efc00298f6ec1932e6317->whisperx==3.1.1) (0.10.1)\n",
            "Requirement already satisfied: torch-pitch-shift>=1.2.2 in /usr/local/lib/python3.10/dist-packages (from torch-audiomentations>=0.11.0->pyannote.audio@ git+https://github.com/pyannote/pyannote-audio@11b56a137a578db9335efc00298f6ec1932e6317->whisperx==3.1.1) (1.2.4)\n",
            "Requirement already satisfied: soupsieve>1.2 in /usr/local/lib/python3.10/dist-packages (from beautifulsoup4<6.0,>=4.8.0->lightning>=2.0.1->pyannote.audio@ git+https://github.com/pyannote/pyannote-audio@11b56a137a578db9335efc00298f6ec1932e6317->whisperx==3.1.1) (2.4.1)\n",
            "Requirement already satisfied: pycparser in /usr/local/lib/python3.10/dist-packages (from cffi>=1.0->soundfile>=0.12.1->pyannote.audio@ git+https://github.com/pyannote/pyannote-audio@11b56a137a578db9335efc00298f6ec1932e6317->whisperx==3.1.1) (2.21)\n",
            "Requirement already satisfied: ordered-set<4.2.0,>=4.0.2 in /usr/local/lib/python3.10/dist-packages (from deepdiff<8.0,>=5.7.0->lightning>=2.0.1->pyannote.audio@ git+https://github.com/pyannote/pyannote-audio@11b56a137a578db9335efc00298f6ec1932e6317->whisperx==3.1.1) (4.1.0)\n",
            "Requirement already satisfied: aiohttp!=4.0.0a0,!=4.0.0a1 in /usr/local/lib/python3.10/dist-packages (from fsspec->huggingface-hub>=0.13->faster-whisper->whisperx==3.1.1) (3.8.5)\n",
            "Requirement already satisfied: blessed>=1.19.0 in /usr/local/lib/python3.10/dist-packages (from inquirer<5.0,>=2.10.0->lightning>=2.0.1->pyannote.audio@ git+https://github.com/pyannote/pyannote-audio@11b56a137a578db9335efc00298f6ec1932e6317->whisperx==3.1.1) (1.20.0)\n",
            "Requirement already satisfied: python-editor>=1.0.4 in /usr/local/lib/python3.10/dist-packages (from inquirer<5.0,>=2.10.0->lightning>=2.0.1->pyannote.audio@ git+https://github.com/pyannote/pyannote-audio@11b56a137a578db9335efc00298f6ec1932e6317->whisperx==3.1.1) (1.0.4)\n",
            "Requirement already satisfied: readchar>=3.0.6 in /usr/local/lib/python3.10/dist-packages (from inquirer<5.0,>=2.10.0->lightning>=2.0.1->pyannote.audio@ git+https://github.com/pyannote/pyannote-audio@11b56a137a578db9335efc00298f6ec1932e6317->whisperx==3.1.1) (4.0.5)\n",
            "Requirement already satisfied: audioread>=2.1.9 in /usr/local/lib/python3.10/dist-packages (from librosa>=0.6.0->torch-audiomentations>=0.11.0->pyannote.audio@ git+https://github.com/pyannote/pyannote-audio@11b56a137a578db9335efc00298f6ec1932e6317->whisperx==3.1.1) (3.0.0)\n",
            "Requirement already satisfied: decorator>=4.3.0 in /usr/local/lib/python3.10/dist-packages (from librosa>=0.6.0->torch-audiomentations>=0.11.0->pyannote.audio@ git+https://github.com/pyannote/pyannote-audio@11b56a137a578db9335efc00298f6ec1932e6317->whisperx==3.1.1) (4.4.2)\n",
            "Requirement already satisfied: numba>=0.51.0 in /usr/local/lib/python3.10/dist-packages (from librosa>=0.6.0->torch-audiomentations>=0.11.0->pyannote.audio@ git+https://github.com/pyannote/pyannote-audio@11b56a137a578db9335efc00298f6ec1932e6317->whisperx==3.1.1) (0.56.4)\n",
            "Requirement already satisfied: pooch>=1.0 in /usr/local/lib/python3.10/dist-packages (from librosa>=0.6.0->torch-audiomentations>=0.11.0->pyannote.audio@ git+https://github.com/pyannote/pyannote-audio@11b56a137a578db9335efc00298f6ec1932e6317->whisperx==3.1.1) (1.7.0)\n",
            "Requirement already satisfied: soxr>=0.3.2 in /usr/local/lib/python3.10/dist-packages (from librosa>=0.6.0->torch-audiomentations>=0.11.0->pyannote.audio@ git+https://github.com/pyannote/pyannote-audio@11b56a137a578db9335efc00298f6ec1932e6317->whisperx==3.1.1) (0.3.6)\n",
            "Requirement already satisfied: lazy-loader>=0.1 in /usr/local/lib/python3.10/dist-packages (from librosa>=0.6.0->torch-audiomentations>=0.11.0->pyannote.audio@ git+https://github.com/pyannote/pyannote-audio@11b56a137a578db9335efc00298f6ec1932e6317->whisperx==3.1.1) (0.3)\n",
            "Requirement already satisfied: msgpack>=1.0 in /usr/local/lib/python3.10/dist-packages (from librosa>=0.6.0->torch-audiomentations>=0.11.0->pyannote.audio@ git+https://github.com/pyannote/pyannote-audio@11b56a137a578db9335efc00298f6ec1932e6317->whisperx==3.1.1) (1.0.5)\n",
            "Requirement already satisfied: pyjwt in /usr/lib/python3/dist-packages (from lightning-cloud>=0.5.37->lightning>=2.0.1->pyannote.audio@ git+https://github.com/pyannote/pyannote-audio@11b56a137a578db9335efc00298f6ec1932e6317->whisperx==3.1.1) (2.3.0)\n",
            "Requirement already satisfied: mdurl~=0.1 in /usr/local/lib/python3.10/dist-packages (from markdown-it-py>=2.2.0->rich>=12.0.0->pyannote.audio@ git+https://github.com/pyannote/pyannote-audio@11b56a137a578db9335efc00298f6ec1932e6317->whisperx==3.1.1) (0.1.2)\n",
            "Requirement already satisfied: contourpy>=1.0.1 in /usr/local/lib/python3.10/dist-packages (from matplotlib>=2.0.0->pyannote.metrics>=3.2->pyannote.audio@ git+https://github.com/pyannote/pyannote-audio@11b56a137a578db9335efc00298f6ec1932e6317->whisperx==3.1.1) (1.1.0)\n",
            "Requirement already satisfied: cycler>=0.10 in /usr/local/lib/python3.10/dist-packages (from matplotlib>=2.0.0->pyannote.metrics>=3.2->pyannote.audio@ git+https://github.com/pyannote/pyannote-audio@11b56a137a578db9335efc00298f6ec1932e6317->whisperx==3.1.1) (0.11.0)\n",
            "Requirement already satisfied: fonttools>=4.22.0 in /usr/local/lib/python3.10/dist-packages (from matplotlib>=2.0.0->pyannote.metrics>=3.2->pyannote.audio@ git+https://github.com/pyannote/pyannote-audio@11b56a137a578db9335efc00298f6ec1932e6317->whisperx==3.1.1) (4.42.1)\n",
            "Requirement already satisfied: kiwisolver>=1.0.1 in /usr/local/lib/python3.10/dist-packages (from matplotlib>=2.0.0->pyannote.metrics>=3.2->pyannote.audio@ git+https://github.com/pyannote/pyannote-audio@11b56a137a578db9335efc00298f6ec1932e6317->whisperx==3.1.1) (1.4.4)\n",
            "Requirement already satisfied: pillow>=6.2.0 in /usr/local/lib/python3.10/dist-packages (from matplotlib>=2.0.0->pyannote.metrics>=3.2->pyannote.audio@ git+https://github.com/pyannote/pyannote-audio@11b56a137a578db9335efc00298f6ec1932e6317->whisperx==3.1.1) (9.4.0)\n",
            "Requirement already satisfied: pyparsing>=2.3.1 in /usr/local/lib/python3.10/dist-packages (from matplotlib>=2.0.0->pyannote.metrics>=3.2->pyannote.audio@ git+https://github.com/pyannote/pyannote-audio@11b56a137a578db9335efc00298f6ec1932e6317->whisperx==3.1.1) (3.1.1)\n",
            "Requirement already satisfied: alembic>=1.5.0 in /usr/local/lib/python3.10/dist-packages (from optuna>=1.4->pyannote.pipeline>=2.3->pyannote.audio@ git+https://github.com/pyannote/pyannote-audio@11b56a137a578db9335efc00298f6ec1932e6317->whisperx==3.1.1) (1.11.3)\n",
            "Requirement already satisfied: cmaes>=0.10.0 in /usr/local/lib/python3.10/dist-packages (from optuna>=1.4->pyannote.pipeline>=2.3->pyannote.audio@ git+https://github.com/pyannote/pyannote-audio@11b56a137a578db9335efc00298f6ec1932e6317->whisperx==3.1.1) (0.10.0)\n",
            "Requirement already satisfied: colorlog in /usr/local/lib/python3.10/dist-packages (from optuna>=1.4->pyannote.pipeline>=2.3->pyannote.audio@ git+https://github.com/pyannote/pyannote-audio@11b56a137a578db9335efc00298f6ec1932e6317->whisperx==3.1.1) (6.7.0)\n",
            "Requirement already satisfied: sqlalchemy>=1.3.0 in /usr/local/lib/python3.10/dist-packages (from optuna>=1.4->pyannote.pipeline>=2.3->pyannote.audio@ git+https://github.com/pyannote/pyannote-audio@11b56a137a578db9335efc00298f6ec1932e6317->whisperx==3.1.1) (2.0.20)\n",
            "Requirement already satisfied: annotated-types>=0.4.0 in /usr/local/lib/python3.10/dist-packages (from pydantic<2.2.0,>=1.7.4->lightning>=2.0.1->pyannote.audio@ git+https://github.com/pyannote/pyannote-audio@11b56a137a578db9335efc00298f6ec1932e6317->whisperx==3.1.1) (0.5.0)\n",
            "Requirement already satisfied: pydantic-core==2.4.0 in /usr/local/lib/python3.10/dist-packages (from pydantic<2.2.0,>=1.7.4->lightning>=2.0.1->pyannote.audio@ git+https://github.com/pyannote/pyannote-audio@11b56a137a578db9335efc00298f6ec1932e6317->whisperx==3.1.1) (2.4.0)\n",
            "Requirement already satisfied: threadpoolctl>=2.0.0 in /usr/local/lib/python3.10/dist-packages (from scikit-learn>=0.17.1->pyannote.metrics>=3.2->pyannote.audio@ git+https://github.com/pyannote/pyannote-audio@11b56a137a578db9335efc00298f6ec1932e6317->whisperx==3.1.1) (3.2.0)\n",
            "Requirement already satisfied: anyio<5,>=3.4.0 in /usr/local/lib/python3.10/dist-packages (from starlette->lightning>=2.0.1->pyannote.audio@ git+https://github.com/pyannote/pyannote-audio@11b56a137a578db9335efc00298f6ec1932e6317->whisperx==3.1.1) (3.7.1)\n",
            "Requirement already satisfied: itsdangerous<3.0.0,>=2.0.1 in /usr/local/lib/python3.10/dist-packages (from starsessions<2.0,>=1.2.1->lightning>=2.0.1->pyannote.audio@ git+https://github.com/pyannote/pyannote-audio@11b56a137a578db9335efc00298f6ec1932e6317->whisperx==3.1.1) (2.1.2)\n",
            "Requirement already satisfied: primePy>=1.3 in /usr/local/lib/python3.10/dist-packages (from torch-pitch-shift>=1.2.2->torch-audiomentations>=0.11.0->pyannote.audio@ git+https://github.com/pyannote/pyannote-audio@11b56a137a578db9335efc00298f6ec1932e6317->whisperx==3.1.1) (1.3)\n",
            "Requirement already satisfied: colorama<0.5.0,>=0.4.3 in /usr/local/lib/python3.10/dist-packages (from typer[all]>=0.2.1->pyannote.database>=5.0.1->pyannote.audio@ git+https://github.com/pyannote/pyannote-audio@11b56a137a578db9335efc00298f6ec1932e6317->whisperx==3.1.1) (0.4.6)\n",
            "Requirement already satisfied: shellingham<2.0.0,>=1.3.0 in /usr/local/lib/python3.10/dist-packages (from typer[all]>=0.2.1->pyannote.database>=5.0.1->pyannote.audio@ git+https://github.com/pyannote/pyannote-audio@11b56a137a578db9335efc00298f6ec1932e6317->whisperx==3.1.1) (1.5.3)\n",
            "Requirement already satisfied: h11>=0.8 in /usr/local/lib/python3.10/dist-packages (from uvicorn<2.0->lightning>=2.0.1->pyannote.audio@ git+https://github.com/pyannote/pyannote-audio@11b56a137a578db9335efc00298f6ec1932e6317->whisperx==3.1.1) (0.14.0)\n",
            "Requirement already satisfied: humanfriendly>=9.1 in /usr/local/lib/python3.10/dist-packages (from coloredlogs->onnxruntime<2,>=1.14->faster-whisper->whisperx==3.1.1) (10.0)\n",
            "Requirement already satisfied: ruamel.yaml<=0.17.28,>=0.17.8 in /usr/local/lib/python3.10/dist-packages (from hyperpyyaml->speechbrain>=0.5.14->pyannote.audio@ git+https://github.com/pyannote/pyannote-audio@11b56a137a578db9335efc00298f6ec1932e6317->whisperx==3.1.1) (0.17.28)\n",
            "Requirement already satisfied: attrs>=17.3.0 in /usr/local/lib/python3.10/dist-packages (from aiohttp!=4.0.0a0,!=4.0.0a1->fsspec->huggingface-hub>=0.13->faster-whisper->whisperx==3.1.1) (23.1.0)\n",
            "Requirement already satisfied: multidict<7.0,>=4.5 in /usr/local/lib/python3.10/dist-packages (from aiohttp!=4.0.0a0,!=4.0.0a1->fsspec->huggingface-hub>=0.13->faster-whisper->whisperx==3.1.1) (6.0.4)\n",
            "Requirement already satisfied: async-timeout<5.0,>=4.0.0a3 in /usr/local/lib/python3.10/dist-packages (from aiohttp!=4.0.0a0,!=4.0.0a1->fsspec->huggingface-hub>=0.13->faster-whisper->whisperx==3.1.1) (4.0.3)\n",
            "Requirement already satisfied: yarl<2.0,>=1.0 in /usr/local/lib/python3.10/dist-packages (from aiohttp!=4.0.0a0,!=4.0.0a1->fsspec->huggingface-hub>=0.13->faster-whisper->whisperx==3.1.1) (1.9.2)\n",
            "Requirement already satisfied: frozenlist>=1.1.1 in /usr/local/lib/python3.10/dist-packages (from aiohttp!=4.0.0a0,!=4.0.0a1->fsspec->huggingface-hub>=0.13->faster-whisper->whisperx==3.1.1) (1.4.0)\n",
            "Requirement already satisfied: aiosignal>=1.1.2 in /usr/local/lib/python3.10/dist-packages (from aiohttp!=4.0.0a0,!=4.0.0a1->fsspec->huggingface-hub>=0.13->faster-whisper->whisperx==3.1.1) (1.3.1)\n",
            "Requirement already satisfied: Mako in /usr/local/lib/python3.10/dist-packages (from alembic>=1.5.0->optuna>=1.4->pyannote.pipeline>=2.3->pyannote.audio@ git+https://github.com/pyannote/pyannote-audio@11b56a137a578db9335efc00298f6ec1932e6317->whisperx==3.1.1) (1.2.4)\n",
            "Requirement already satisfied: sniffio>=1.1 in /usr/local/lib/python3.10/dist-packages (from anyio<5,>=3.4.0->starlette->lightning>=2.0.1->pyannote.audio@ git+https://github.com/pyannote/pyannote-audio@11b56a137a578db9335efc00298f6ec1932e6317->whisperx==3.1.1) (1.3.0)\n",
            "Requirement already satisfied: exceptiongroup in /usr/local/lib/python3.10/dist-packages (from anyio<5,>=3.4.0->starlette->lightning>=2.0.1->pyannote.audio@ git+https://github.com/pyannote/pyannote-audio@11b56a137a578db9335efc00298f6ec1932e6317->whisperx==3.1.1) (1.1.3)\n",
            "Requirement already satisfied: wcwidth>=0.1.4 in /usr/local/lib/python3.10/dist-packages (from blessed>=1.19.0->inquirer<5.0,>=2.10.0->lightning>=2.0.1->pyannote.audio@ git+https://github.com/pyannote/pyannote-audio@11b56a137a578db9335efc00298f6ec1932e6317->whisperx==3.1.1) (0.2.6)\n",
            "Requirement already satisfied: llvmlite<0.40,>=0.39.0dev0 in /usr/local/lib/python3.10/dist-packages (from numba>=0.51.0->librosa>=0.6.0->torch-audiomentations>=0.11.0->pyannote.audio@ git+https://github.com/pyannote/pyannote-audio@11b56a137a578db9335efc00298f6ec1932e6317->whisperx==3.1.1) (0.39.1)\n",
            "Requirement already satisfied: platformdirs>=2.5.0 in /usr/local/lib/python3.10/dist-packages (from pooch>=1.0->librosa>=0.6.0->torch-audiomentations>=0.11.0->pyannote.audio@ git+https://github.com/pyannote/pyannote-audio@11b56a137a578db9335efc00298f6ec1932e6317->whisperx==3.1.1) (3.10.0)\n",
            "Requirement already satisfied: ruamel.yaml.clib>=0.2.7 in /usr/local/lib/python3.10/dist-packages (from ruamel.yaml<=0.17.28,>=0.17.8->hyperpyyaml->speechbrain>=0.5.14->pyannote.audio@ git+https://github.com/pyannote/pyannote-audio@11b56a137a578db9335efc00298f6ec1932e6317->whisperx==3.1.1) (0.2.7)\n",
            "Requirement already satisfied: greenlet!=0.4.17 in /usr/local/lib/python3.10/dist-packages (from sqlalchemy>=1.3.0->optuna>=1.4->pyannote.pipeline>=2.3->pyannote.audio@ git+https://github.com/pyannote/pyannote-audio@11b56a137a578db9335efc00298f6ec1932e6317->whisperx==3.1.1) (2.0.2)\n",
            "Requirement already satisfied: yt-dlp in /usr/local/lib/python3.10/dist-packages (2023.7.6)\n",
            "Requirement already satisfied: mutagen in /usr/local/lib/python3.10/dist-packages (from yt-dlp) (1.46.0)\n",
            "Requirement already satisfied: pycryptodomex in /usr/local/lib/python3.10/dist-packages (from yt-dlp) (3.18.0)\n",
            "Requirement already satisfied: websockets in /usr/local/lib/python3.10/dist-packages (from yt-dlp) (11.0.3)\n",
            "Requirement already satisfied: certifi in /usr/local/lib/python3.10/dist-packages (from yt-dlp) (2023.7.22)\n",
            "Requirement already satisfied: brotli in /usr/local/lib/python3.10/dist-packages (from yt-dlp) (1.0.9)\n"
          ]
        }
      ],
      "source": [
        "!pip install git+https://github.com/m-bain/whisperx.git;\n",
        "!python3 -m pip install -U yt-dlp;"
      ]
    },
    {
      "cell_type": "markdown",
      "source": [
        "---\n",
        "## Montar Google Drive (Compartido)"
      ],
      "metadata": {
        "id": "3sZEN8mlg3Te"
      }
    },
    {
      "cell_type": "code",
      "source": [
        "from google.colab import drive\n",
        "drive.mount('/content/drive', force_remount=True)\n",
        "project_path = \"drive/MyDrive/preguntale-al-candidato\""
      ],
      "metadata": {
        "id": "FIw4eO7IgxpQ",
        "colab": {
          "base_uri": "https://localhost:8080/"
        },
        "outputId": "ebcf4fd9-47e0-4f39-8928-d0142b61b481"
      },
      "execution_count": null,
      "outputs": [
        {
          "output_type": "stream",
          "name": "stdout",
          "text": [
            "Mounted at /content/drive\n"
          ]
        }
      ]
    },
    {
      "cell_type": "markdown",
      "source": [
        "---\n",
        "### **Definir Token y variables**"
      ],
      "metadata": {
        "id": "TDXxHfxH1Vzt"
      }
    },
    {
      "cell_type": "code",
      "source": [
        "hf_token = open(f\"{project_path}/.creds/HF_TOKEN\").read()  # https://huggingface.co/settings/tokens\n"
      ],
      "metadata": {
        "id": "LlAs6-C_1KfN"
      },
      "execution_count": null,
      "outputs": []
    },
    {
      "cell_type": "code",
      "source": [
        "%load_ext sql\n",
        "%reload_ext sql\n",
        "%sql sqlite:///drive/MyDrive/preguntale-al-candidato/sqlite/pal-db"
      ],
      "metadata": {
        "id": "X2hlRu04ojG0"
      },
      "execution_count": null,
      "outputs": []
    },
    {
      "cell_type": "code",
      "source": [
        "%%sql\n",
        "SELECT * FROM candidate_videos"
      ],
      "metadata": {
        "colab": {
          "base_uri": "https://localhost:8080/",
          "height": 139
        },
        "id": "0lmtx0PEJldm",
        "outputId": "daba77e2-9cb4-4afa-98af-1bd09530a095"
      },
      "execution_count": null,
      "outputs": [
        {
          "output_type": "stream",
          "name": "stdout",
          "text": [
            " * sqlite:///drive/MyDrive/preguntale-al-candidato/sqlite/pal-db\n",
            "Done.\n"
          ]
        },
        {
          "output_type": "execute_result",
          "data": {
            "text/plain": [
              "[('https://www.youtube.com/watch?v=MZEnIUQGuDg&ab_channel=ElPelucaMilei', 'Milei', '2023-08-25 22:22:33', 'PROCESSED', '2023-08-26 14:25:48'),\n",
              " ('https://www.youtube.com/watch?v=0q2-jGjpSk4', 'Milei', '2023-08-26 07:00:03', 'PROCESSED', '2023-08-26 14:25:48'),\n",
              " ('https://www.youtube.com/watch?v=R1Y_5xH7-ks', 'Milei', '2023-08-26 07:00:03', 'Not processed', '2023-08-26 14:25:48')]"
            ],
            "text/html": [
              "<table>\n",
              "    <thead>\n",
              "        <tr>\n",
              "            <th>url</th>\n",
              "            <th>candidate</th>\n",
              "            <th>added_to_list_ts</th>\n",
              "            <th>status</th>\n",
              "            <th>status_ts</th>\n",
              "        </tr>\n",
              "    </thead>\n",
              "    <tbody>\n",
              "        <tr>\n",
              "            <td>https://www.youtube.com/watch?v=MZEnIUQGuDg&amp;ab_channel=ElPelucaMilei</td>\n",
              "            <td>Milei</td>\n",
              "            <td>2023-08-25 22:22:33</td>\n",
              "            <td>PROCESSED</td>\n",
              "            <td>2023-08-26 14:25:48</td>\n",
              "        </tr>\n",
              "        <tr>\n",
              "            <td>https://www.youtube.com/watch?v=0q2-jGjpSk4</td>\n",
              "            <td>Milei</td>\n",
              "            <td>2023-08-26 07:00:03</td>\n",
              "            <td>PROCESSED</td>\n",
              "            <td>2023-08-26 14:25:48</td>\n",
              "        </tr>\n",
              "        <tr>\n",
              "            <td>https://www.youtube.com/watch?v=R1Y_5xH7-ks</td>\n",
              "            <td>Milei</td>\n",
              "            <td>2023-08-26 07:00:03</td>\n",
              "            <td>Not processed</td>\n",
              "            <td>2023-08-26 14:25:48</td>\n",
              "        </tr>\n",
              "    </tbody>\n",
              "</table>"
            ]
          },
          "metadata": {},
          "execution_count": 20
        }
      ]
    },
    {
      "cell_type": "markdown",
      "source": [
        "---\n",
        "### Add links to DB (Only add new ones)"
      ],
      "metadata": {
        "id": "htrHU6m4uuPO"
      }
    },
    {
      "cell_type": "code",
      "source": [
        "# creating a list of items\n",
        "from datetime import datetime\n",
        "\n",
        "new_data = [\n",
        "    ('https://www.youtube.com/watch?v=0q2-jGjpSk4', 'Milei', datetime.now().strftime(\"%Y-%m-%d %H:%M:%S\"), 'Not processed', datetime.now().strftime(\"%Y-%m-%d %H:%M:%S\")),\n",
        "    ('https://www.youtube.com/watch?v=R1Y_5xH7-ks', 'Milei', datetime.now().strftime(\"%Y-%m-%d %H:%M:%S\"), 'Not processed', datetime.now().strftime(\"%Y-%m-%d %H:%M:%S\")),\n",
        "    ('https://www.youtube.com/watch?v=MZEnIUQGuDg&ab_channel=ElPelucaMilei', 'Milei', datetime.now().strftime(\"%Y-%m-%d %H:%M:%S\"), 'Not processed', datetime.now().strftime(\"%Y-%m-%d %H:%M:%S\"))\n",
        "    ]"
      ],
      "metadata": {
        "id": "dpYEI_mauy-G"
      },
      "execution_count": null,
      "outputs": []
    },
    {
      "cell_type": "code",
      "source": [
        "import sqlite3\n",
        "\n",
        "connection = sqlite3.connect('drive/MyDrive/preguntale-al-candidato/sqlite/pal-db') # file path\n",
        "\n",
        "# create a cursor object from the cursor class\n",
        "cur = connection.cursor()\n",
        "cur.executemany(\"\"\"\n",
        "INSERT INTO candidate_videos VALUES (?,?,?,?,?)\n",
        "ON CONFLICT (url) DO UPDATE SET status=excluded.status, status_ts=excluded.status_ts\n",
        "WHERE status = 'Not processed';\n",
        "\"\"\", new_data)\n",
        "\n",
        "# committing our connection\n",
        "print('Command executed successfully!!!')\n",
        "connection.commit()\n",
        "\n",
        "# close our connection\n",
        "connection.close()"
      ],
      "metadata": {
        "id": "RowY-m6-u3KH",
        "colab": {
          "base_uri": "https://localhost:8080/"
        },
        "outputId": "c337b795-67f1-46d5-ee8d-05a2b15c0b89"
      },
      "execution_count": null,
      "outputs": [
        {
          "output_type": "stream",
          "name": "stdout",
          "text": [
            "Command executed successfully!!!\n"
          ]
        }
      ]
    },
    {
      "cell_type": "code",
      "source": [
        "%%sql\n",
        "SELECT * FROM candidate_videos"
      ],
      "metadata": {
        "colab": {
          "base_uri": "https://localhost:8080/",
          "height": 139
        },
        "id": "NJQLqvCzPins",
        "outputId": "2aeb4ce2-d3c3-437b-83fc-8026c80ef110"
      },
      "execution_count": null,
      "outputs": [
        {
          "output_type": "stream",
          "name": "stdout",
          "text": [
            " * sqlite:///drive/MyDrive/preguntale-al-candidato/sqlite/pal-db\n",
            "Done.\n"
          ]
        },
        {
          "output_type": "execute_result",
          "data": {
            "text/plain": [
              "[('https://www.youtube.com/watch?v=MZEnIUQGuDg&ab_channel=ElPelucaMilei', 'Milei', '2023-08-25 22:22:33', 'PROCESSED', '2023-08-26 14:25:48'),\n",
              " ('https://www.youtube.com/watch?v=0q2-jGjpSk4', 'Milei', '2023-08-26 07:00:03', 'PROCESSED', '2023-08-26 14:25:48'),\n",
              " ('https://www.youtube.com/watch?v=R1Y_5xH7-ks', 'Milei', '2023-08-26 07:00:03', 'Not processed', '2023-08-26 14:27:23')]"
            ],
            "text/html": [
              "<table>\n",
              "    <thead>\n",
              "        <tr>\n",
              "            <th>url</th>\n",
              "            <th>candidate</th>\n",
              "            <th>added_to_list_ts</th>\n",
              "            <th>status</th>\n",
              "            <th>status_ts</th>\n",
              "        </tr>\n",
              "    </thead>\n",
              "    <tbody>\n",
              "        <tr>\n",
              "            <td>https://www.youtube.com/watch?v=MZEnIUQGuDg&amp;ab_channel=ElPelucaMilei</td>\n",
              "            <td>Milei</td>\n",
              "            <td>2023-08-25 22:22:33</td>\n",
              "            <td>PROCESSED</td>\n",
              "            <td>2023-08-26 14:25:48</td>\n",
              "        </tr>\n",
              "        <tr>\n",
              "            <td>https://www.youtube.com/watch?v=0q2-jGjpSk4</td>\n",
              "            <td>Milei</td>\n",
              "            <td>2023-08-26 07:00:03</td>\n",
              "            <td>PROCESSED</td>\n",
              "            <td>2023-08-26 14:25:48</td>\n",
              "        </tr>\n",
              "        <tr>\n",
              "            <td>https://www.youtube.com/watch?v=R1Y_5xH7-ks</td>\n",
              "            <td>Milei</td>\n",
              "            <td>2023-08-26 07:00:03</td>\n",
              "            <td>Not processed</td>\n",
              "            <td>2023-08-26 14:27:23</td>\n",
              "        </tr>\n",
              "    </tbody>\n",
              "</table>"
            ]
          },
          "metadata": {},
          "execution_count": 23
        }
      ]
    },
    {
      "cell_type": "markdown",
      "source": [
        "----\n",
        "----\n",
        "\n",
        "### Utils"
      ],
      "metadata": {
        "id": "U815BHn_u6_h"
      }
    },
    {
      "cell_type": "code",
      "source": [
        "###########                    UTILS                ###########################\n",
        "\n",
        "import re\n",
        "import subprocess\n",
        "import json\n",
        "\n",
        "def extract_video_id(url):\n",
        "    video_id_match = re.findall(r\"(v=|/)([a-zA-Z0-9_-]{11})\", url)\n",
        "    if video_id_match:\n",
        "        return video_id_match[0][1]\n",
        "    return None\n",
        "\n",
        "def run_process_and_log(command: list):\n",
        "    logger = logging.getLogger(__name__)\n",
        "    process = subprocess.Popen(command, stdout=subprocess.PIPE, stderr=subprocess.PIPE, text=True)\n",
        "    for line in iter(process.stdout.readline, ''):\n",
        "        print(f\"stdout: {line.strip()}\")\n",
        "\n",
        "    for line in iter(process.stderr.readline, ''):\n",
        "        print(f\"WARNING! stderr: {line.strip()}\")\n",
        "\n",
        "    process.communicate()\n",
        "\n",
        "\n",
        "def identify_speaker(file_name, model, embedding_candidato):\n",
        "\n",
        "    with open(f\"{file_name}.json\", \"r\") as file:\n",
        "        transcription = json.load(file)\n",
        "\n",
        "    stime = time.time()\n",
        "\n",
        "    # speaker_mapper = {}\n",
        "\n",
        "    # Compare each segment to teh sampple voice and categorize\n",
        "    for segment in transcription['segments']:\n",
        "\n",
        "        # Extract embedding for a speaker speaking between t=Xs and t=Ys\n",
        "        target_speaker = Segment(segment['start'], segment['end'])\n",
        "        waveform_target, sample_rate = audio.crop(f\"{file_name}.wav\", target_speaker)\n",
        "        embedding_target = model(waveform_target[None])\n",
        "\n",
        "        # compare embeddings using \"cosine\" distance\n",
        "        distance = cdist(embedding_candidato, embedding_target, metric=\"cosine\")\n",
        "\n",
        "        segment['identity_distance'] = distance[0][0]\n",
        "\n",
        "        # remove words. Not used\n",
        "        del segment['words']\n",
        "\n",
        "    print(f'total time: {time.time()-stime:.2f} seconds')\n",
        "\n",
        "    return transcription['segments']"
      ],
      "metadata": {
        "id": "hdrhEYxm8qv9"
      },
      "execution_count": null,
      "outputs": []
    },
    {
      "cell_type": "markdown",
      "source": [
        "---\n",
        "---\n",
        "## PROCESS VIDEOS\n"
      ],
      "metadata": {
        "id": "JjMV9-l_OVdl"
      }
    },
    {
      "cell_type": "code",
      "source": [
        "#%%\n",
        "\n",
        "###########                    MAIN                ###########################\n",
        "import subprocess\n",
        "import time\n",
        "import torch\n",
        "from datetime import datetime\n",
        "from pyannote.audio.pipelines.speaker_verification import PretrainedSpeakerEmbedding\n",
        "from pyannote.audio import Audio\n",
        "from pyannote.core import Segment\n",
        "from scipy.spatial.distance import cdist\n",
        "import logging\n",
        "\n",
        "CADIDATES = ['Milei']\n",
        "TIMESTAMP_FORMAT = '%Y-%m-%d %H:%M:%S'\n",
        "\n",
        "for candidate_name in CADIDATES:\n",
        "\n",
        "    # Get unprocessed links for the candidate from SQLITE\n",
        "    %sql data << SELECT * FROM candidate_videos WHERE status = 'Not processed' AND CANDIDATE = :candidate_name\n",
        "\n",
        "    print(f\"Retrieved {len(data)} unprocessed links for candidate {candidate_name}\")\n",
        "\n",
        "    # Initialize models\n",
        "    model = PretrainedSpeakerEmbedding(\n",
        "        \"speechbrain/spkrec-ecapa-voxceleb\",\n",
        "        device=torch.device(\"cuda\"))\n",
        "    audio = Audio(sample_rate=16000, mono=\"downmix\")\n",
        "    candidato = Segment(1., 15.)\n",
        "\n",
        "    # Get candidate sample voice from `data` directory\n",
        "    waveform_candidato, sample_rate = audio.crop(f\"{project_path}/data/muestras-de-voz/{candidate_name}.wav\", candidato)\n",
        "    embedding_candidato = model(waveform_candidato[None])\n",
        "\n",
        "    for r in data:\n",
        "\n",
        "\n",
        "        # Define URL coming from database\n",
        "        url = r[0]\n",
        "        # url = 'https://www.youtube.com/shorts/7iztngtoe-0'\n",
        "\n",
        "        file_name = extract_video_id(url)\n",
        "        print(f\"Processing id: {file_name}  -- {url}\")\n",
        "\n",
        "        ts = datetime.now().strftime(TIMESTAMP_FORMAT)\n",
        "        %sql UPDATE candidate_videos SET status = 'In progress', status_ts = :ts WHERE url=:url\n",
        "\n",
        "        ###\n",
        "        # Download Video's Audio\n",
        "        yt_download_command = [ \"python\", \"-m\", \"yt_dlp\", \"--output\", f\"{file_name}.%(ext)s\",\n",
        "                               \"--extract-audio\", \"--audio-format\", \"wav\", url,]\n",
        "\n",
        "        run_process_and_log(yt_download_command)\n",
        "        print(f\"Audio has been downloaded to {file_name}\")\n",
        "\n",
        "        # Transcribe Audio\n",
        "        whisperx_command = [\"whisperx\", f\"{file_name}.wav\", \"--hf_token\", hf_token,\n",
        "                            \"--model\", \"large-v2\", \"--language\", \"es\",\n",
        "                            \"--align_model\", \"WAV2VEC2_ASR_LARGE_LV60K_960H\",\n",
        "                            \"--diarize\", \"--min_speakers\", \"2\", ]\n",
        "\n",
        "        print(f\"Start audio transcription....\")\n",
        "        run_process_and_log(whisperx_command)\n",
        "        print(f\"Transcription finished\")\n",
        "\n",
        "        print(f\"Identifying speakers. Flag target speaker...\")\n",
        "        # Get transcripton and identify TARGET speaker\n",
        "        segments = identify_speaker(file_name, model, embedding_candidato)\n",
        "\n",
        "        with open(f\"{project_path}/data/{candidate_name}/{file_name}.json\", \"w\") as fh:\n",
        "            json.dump(segments, fh, ensure_ascii=False, indent=4)\n",
        "\n",
        "        print(f\"Target identified\")\n",
        "\n",
        "        print(\"Updating DB\")\n",
        "\n",
        "        ts = datetime.now().strftime(TIMESTAMP_FORMAT)\n",
        "        %sql UPDATE candidate_videos SET status = 'PROCESSED', status_ts = :ts WHERE url=:url\n",
        "\n",
        "\n"
      ],
      "metadata": {
        "id": "QOaxHjPZ6GKJ"
      },
      "execution_count": null,
      "outputs": []
    },
    {
      "cell_type": "code",
      "source": [],
      "metadata": {
        "id": "m7GCpLvoWZwe"
      },
      "execution_count": null,
      "outputs": []
    }
  ]
}