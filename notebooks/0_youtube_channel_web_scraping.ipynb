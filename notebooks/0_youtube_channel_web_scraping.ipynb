{
 "cells": [
  {
   "cell_type": "markdown",
   "metadata": {
    "tags": []
   },
   "source": [
    "# Extract video information from YouTube channels"
   ]
  },
  {
   "cell_type": "markdown",
   "metadata": {},
   "source": [
    "`yt-dlp` is a command-line program to download videos from YouTube and a few more sites, and it is a more feature-rich fork of `youtube-dl`. It can extract and provide information in various formats, including JSON.\n",
    "\n",
    "To use `yt-dlp` from within a Jupyter Notebook, you can use the `!` shell command magic. You've already provided an example of how you use yt-dlp to dump information in JSON format.\n",
    "\n",
    "To extract specific information such as video duration, title, URL, and views, you can follow these steps:\n",
    "\n",
    "- Use `yt-dlp` with `--dump-json` to retrieve the information in JSON format.\n",
    "- Parse the JSON output to filter and extract the desired fields."
   ]
  },
  {
   "cell_type": "code",
   "execution_count": 1,
   "metadata": {
    "tags": []
   },
   "outputs": [],
   "source": [
    "import shutil\n",
    "from pathlib import Path\n",
    "from tqdm import tqdm"
   ]
  },
  {
   "cell_type": "code",
   "execution_count": 2,
   "metadata": {
    "tags": []
   },
   "outputs": [],
   "source": [
    "youtube_channels = [\n",
    "    # \"@lanacion\",\n",
    "    # \"todonoticias\",\n",
    "    # \"@Infobae\",\n",
    "    \"@ElPelucaMilei\",\n",
    "    \"@MILEIPRESIDENTE\",\n",
    "    \"@JavierMileiOK\",\n",
    "    \"@PatriciaBullrich\",\n",
    "    \"@SergioMassa\"\n",
    "]\n",
    "\n",
    "save_dir = Path(\"../data/youtube_data\")\n",
    "shutil.rmtree(save_dir)\n",
    "Path(save_dir).mkdir(parents=True, exist_ok=True)"
   ]
  },
  {
   "cell_type": "code",
   "execution_count": 3,
   "metadata": {
    "tags": []
   },
   "outputs": [
    {
     "name": "stderr",
     "output_type": "stream",
     "text": [
      "  0%|          | 0/5 [00:00<?, ?it/s]"
     ]
    },
    {
     "name": "stdout",
     "output_type": "stream",
     "text": [
      "\u001b[0;33mWARNING:\u001b[0m [youtube:tab] unable to extract \u001b[0;94myt initial data\u001b[0m; please report this issue on  https://github.com/yt-dlp/yt-dlp/issues?q= , filling out the appropriate issue template. Confirm you are on the latest version using  yt-dlp -U\n",
      "\u001b[0;33mWARNING:\u001b[0m [youtube:tab] Incomplete yt initial data received. Retrying (1/3)...\n",
      "\u001b[0;33mWARNING:\u001b[0m [youtube:tab] unable to extract \u001b[0;94myt initial data\u001b[0m; please report this issue on  https://github.com/yt-dlp/yt-dlp/issues?q= , filling out the appropriate issue template. Confirm you are on the latest version using  yt-dlp -U\n",
      "\u001b[0;33mWARNING:\u001b[0m [youtube:tab] Incomplete yt initial data received. Retrying (2/3)...\n",
      "\u001b[0;33mWARNING:\u001b[0m [youtube:tab] unable to extract \u001b[0;94myt initial data\u001b[0m; please report this issue on  https://github.com/yt-dlp/yt-dlp/issues?q= , filling out the appropriate issue template. Confirm you are on the latest version using  yt-dlp -U\n",
      "\u001b[0;33mWARNING:\u001b[0m [youtube:tab] Incomplete yt initial data received. Retrying (3/3)...\n",
      "\u001b[0;33mWARNING:\u001b[0m [youtube:tab] unable to extract \u001b[0;94myt initial data\u001b[0m; please report this issue on  https://github.com/yt-dlp/yt-dlp/issues?q= , filling out the appropriate issue template. Confirm you are on the latest version using  yt-dlp -U\n",
      "\u001b[0;33mWARNING:\u001b[0m [youtube:tab] Incomplete yt initial data received; please report this issue on  https://github.com/yt-dlp/yt-dlp/issues?q= , filling out the appropriate issue template. Confirm you are on the latest version using  yt-dlp -U. Giving up after 3 retries\n"
     ]
    },
    {
     "name": "stderr",
     "output_type": "stream",
     "text": [
      " 20%|██        | 1/5 [00:03<00:15,  3.80s/it]"
     ]
    },
    {
     "name": "stdout",
     "output_type": "stream",
     "text": [
      "\u001b[0;33mWARNING:\u001b[0m [youtube:tab] unable to extract \u001b[0;94myt initial data\u001b[0m; please report this issue on  https://github.com/yt-dlp/yt-dlp/issues?q= , filling out the appropriate issue template. Confirm you are on the latest version using  yt-dlp -U\n",
      "\u001b[0;33mWARNING:\u001b[0m [youtube:tab] Incomplete yt initial data received. Retrying (1/3)...\n",
      "\u001b[0;33mWARNING:\u001b[0m [youtube:tab] unable to extract \u001b[0;94myt initial data\u001b[0m; please report this issue on  https://github.com/yt-dlp/yt-dlp/issues?q= , filling out the appropriate issue template. Confirm you are on the latest version using  yt-dlp -U\n",
      "\u001b[0;33mWARNING:\u001b[0m [youtube:tab] Incomplete yt initial data received. Retrying (2/3)...\n",
      "\u001b[0;33mWARNING:\u001b[0m [youtube:tab] unable to extract \u001b[0;94myt initial data\u001b[0m; please report this issue on  https://github.com/yt-dlp/yt-dlp/issues?q= , filling out the appropriate issue template. Confirm you are on the latest version using  yt-dlp -U\n",
      "\u001b[0;33mWARNING:\u001b[0m [youtube:tab] Incomplete yt initial data received. Retrying (3/3)...\n",
      "\u001b[0;33mWARNING:\u001b[0m [youtube:tab] unable to extract \u001b[0;94myt initial data\u001b[0m; please report this issue on  https://github.com/yt-dlp/yt-dlp/issues?q= , filling out the appropriate issue template. Confirm you are on the latest version using  yt-dlp -U\n",
      "\u001b[0;33mWARNING:\u001b[0m [youtube:tab] Incomplete yt initial data received; please report this issue on  https://github.com/yt-dlp/yt-dlp/issues?q= , filling out the appropriate issue template. Confirm you are on the latest version using  yt-dlp -U. Giving up after 3 retries\n"
     ]
    },
    {
     "name": "stderr",
     "output_type": "stream",
     "text": [
      " 40%|████      | 2/5 [00:12<00:19,  6.45s/it]"
     ]
    },
    {
     "name": "stdout",
     "output_type": "stream",
     "text": [
      "\u001b[0;33mWARNING:\u001b[0m [youtube:tab] unable to extract \u001b[0;94myt initial data\u001b[0m; please report this issue on  https://github.com/yt-dlp/yt-dlp/issues?q= , filling out the appropriate issue template. Confirm you are on the latest version using  yt-dlp -U\n",
      "\u001b[0;33mWARNING:\u001b[0m [youtube:tab] Incomplete yt initial data received. Retrying (1/3)...\n",
      "\u001b[0;33mWARNING:\u001b[0m [youtube:tab] unable to extract \u001b[0;94myt initial data\u001b[0m; please report this issue on  https://github.com/yt-dlp/yt-dlp/issues?q= , filling out the appropriate issue template. Confirm you are on the latest version using  yt-dlp -U\n",
      "\u001b[0;33mWARNING:\u001b[0m [youtube:tab] Incomplete yt initial data received. Retrying (2/3)...\n",
      "\u001b[0;33mWARNING:\u001b[0m [youtube:tab] unable to extract \u001b[0;94myt initial data\u001b[0m; please report this issue on  https://github.com/yt-dlp/yt-dlp/issues?q= , filling out the appropriate issue template. Confirm you are on the latest version using  yt-dlp -U\n",
      "\u001b[0;33mWARNING:\u001b[0m [youtube:tab] Incomplete yt initial data received. Retrying (3/3)...\n",
      "\u001b[0;33mWARNING:\u001b[0m [youtube:tab] unable to extract \u001b[0;94myt initial data\u001b[0m; please report this issue on  https://github.com/yt-dlp/yt-dlp/issues?q= , filling out the appropriate issue template. Confirm you are on the latest version using  yt-dlp -U\n",
      "\u001b[0;33mWARNING:\u001b[0m [youtube:tab] Incomplete yt initial data received; please report this issue on  https://github.com/yt-dlp/yt-dlp/issues?q= , filling out the appropriate issue template. Confirm you are on the latest version using  yt-dlp -U. Giving up after 3 retries\n"
     ]
    },
    {
     "name": "stderr",
     "output_type": "stream",
     "text": [
      " 60%|██████    | 3/5 [00:15<00:09,  4.84s/it]"
     ]
    },
    {
     "name": "stdout",
     "output_type": "stream",
     "text": [
      "\u001b[0;33mWARNING:\u001b[0m [youtube:tab] unable to extract \u001b[0;94myt initial data\u001b[0m; please report this issue on  https://github.com/yt-dlp/yt-dlp/issues?q= , filling out the appropriate issue template. Confirm you are on the latest version using  yt-dlp -U\n",
      "\u001b[0;33mWARNING:\u001b[0m [youtube:tab] Incomplete yt initial data received. Retrying (1/3)...\n",
      "\u001b[0;33mWARNING:\u001b[0m [youtube:tab] unable to extract \u001b[0;94myt initial data\u001b[0m; please report this issue on  https://github.com/yt-dlp/yt-dlp/issues?q= , filling out the appropriate issue template. Confirm you are on the latest version using  yt-dlp -U\n",
      "\u001b[0;33mWARNING:\u001b[0m [youtube:tab] Incomplete yt initial data received. Retrying (2/3)...\n",
      "\u001b[0;33mWARNING:\u001b[0m [youtube:tab] unable to extract \u001b[0;94myt initial data\u001b[0m; please report this issue on  https://github.com/yt-dlp/yt-dlp/issues?q= , filling out the appropriate issue template. Confirm you are on the latest version using  yt-dlp -U\n",
      "\u001b[0;33mWARNING:\u001b[0m [youtube:tab] Incomplete yt initial data received. Retrying (3/3)...\n",
      "\u001b[0;33mWARNING:\u001b[0m [youtube:tab] unable to extract \u001b[0;94myt initial data\u001b[0m; please report this issue on  https://github.com/yt-dlp/yt-dlp/issues?q= , filling out the appropriate issue template. Confirm you are on the latest version using  yt-dlp -U\n",
      "\u001b[0;33mWARNING:\u001b[0m [youtube:tab] Incomplete yt initial data received; please report this issue on  https://github.com/yt-dlp/yt-dlp/issues?q= , filling out the appropriate issue template. Confirm you are on the latest version using  yt-dlp -U. Giving up after 3 retries\n"
     ]
    },
    {
     "name": "stderr",
     "output_type": "stream",
     "text": [
      " 80%|████████  | 4/5 [00:20<00:05,  5.24s/it]"
     ]
    },
    {
     "name": "stdout",
     "output_type": "stream",
     "text": [
      "\u001b[0;33mWARNING:\u001b[0m [youtube:tab] unable to extract \u001b[0;94myt initial data\u001b[0m; please report this issue on  https://github.com/yt-dlp/yt-dlp/issues?q= , filling out the appropriate issue template. Confirm you are on the latest version using  yt-dlp -U\n",
      "\u001b[0;33mWARNING:\u001b[0m [youtube:tab] Incomplete yt initial data received. Retrying (1/3)...\n",
      "\u001b[0;33mWARNING:\u001b[0m [youtube:tab] unable to extract \u001b[0;94myt initial data\u001b[0m; please report this issue on  https://github.com/yt-dlp/yt-dlp/issues?q= , filling out the appropriate issue template. Confirm you are on the latest version using  yt-dlp -U\n",
      "\u001b[0;33mWARNING:\u001b[0m [youtube:tab] Incomplete yt initial data received. Retrying (2/3)...\n",
      "\u001b[0;33mWARNING:\u001b[0m [youtube:tab] unable to extract \u001b[0;94myt initial data\u001b[0m; please report this issue on  https://github.com/yt-dlp/yt-dlp/issues?q= , filling out the appropriate issue template. Confirm you are on the latest version using  yt-dlp -U\n",
      "\u001b[0;33mWARNING:\u001b[0m [youtube:tab] Incomplete yt initial data received. Retrying (3/3)...\n",
      "\u001b[0;33mWARNING:\u001b[0m [youtube:tab] unable to extract \u001b[0;94myt initial data\u001b[0m; please report this issue on  https://github.com/yt-dlp/yt-dlp/issues?q= , filling out the appropriate issue template. Confirm you are on the latest version using  yt-dlp -U\n",
      "\u001b[0;33mWARNING:\u001b[0m [youtube:tab] Incomplete yt initial data received; please report this issue on  https://github.com/yt-dlp/yt-dlp/issues?q= , filling out the appropriate issue template. Confirm you are on the latest version using  yt-dlp -U. Giving up after 3 retries\n"
     ]
    },
    {
     "name": "stderr",
     "output_type": "stream",
     "text": [
      "100%|██████████| 5/5 [00:28<00:00,  5.78s/it]\n"
     ]
    }
   ],
   "source": [
    "for c in tqdm(youtube_channels):\n",
    "    url = f\"https://www.youtube.com/{c}/videos\"\n",
    "    fname = f\"{save_dir}/{c}.json\"\n",
    "\n",
    "    !yt-dlp --flat-playlist --dump-single-json $url > $fname"
   ]
  },
  {
   "cell_type": "markdown",
   "metadata": {},
   "source": [
    "## Read JSONs and concatenate them on a single `Pandas` dataframe"
   ]
  },
  {
   "cell_type": "markdown",
   "metadata": {},
   "source": [
    "### YouTubeDataProcessor\n",
    "\n",
    "The `YouTubeDataProcessor` class is designed to process and transform JSON data obtained from YouTube channels into a structured pandas DataFrame. This data, typically extracted using tools like `yt-dlp`, is organized in a manner that requires certain processing steps to be made suitable for data analysis.\n",
    "\n",
    "#### Features:\n",
    "\n",
    "1. **Directory-Based Processing**: \n",
    "   The class is initialized with a directory path containing the JSON files. It can process multiple JSON files from this directory and concatenate the results into a single dataframe.\n",
    "\n",
    "2. **Structured Data Transformation**: \n",
    "   The class handles various preprocessing steps:\n",
    "   - **Explosion of the `entries` Column**: Each JSON contains a key named `entries` that holds several entries. The class ensures that each entry gets its own row in the dataframe.\n",
    "   - **Column Renaming & Deletion**: Some columns are renamed for clarity, and others are dropped to clean the data.\n",
    "   - **Extraction of Nested Data**: Data nested within dictionaries is extracted into separate columns.\n",
    "   - **Column Filtering**: Only necessary columns are retained in the final dataframe for a concise output.\n",
    "\n",
    "#### Usage:\n",
    "\n",
    "Initialize the class with the directory containing your JSON files:\n",
    "\n",
    "```python\n",
    "processor = YouTubeDataProcessor(\"path_to_your_directory\")\n",
    "```\n",
    "\n",
    "Then, call the `process_all_json_files` method to process all JSON files and get the resulting dataframe:\n",
    "\n",
    "```\n",
    "df = processor.process_all_json_files()\n",
    "```"
   ]
  },
  {
   "cell_type": "code",
   "execution_count": 55,
   "metadata": {
    "tags": []
   },
   "outputs": [],
   "source": [
    "import os\n",
    "import json\n",
    "import pandas as pd\n",
    "\n",
    "class YouTubeDataProcessor:\n",
    "    def __init__(self, directory):\n",
    "        self.directory = directory\n",
    "\n",
    "    def _json_to_df(self, fname):\n",
    "        with open(fname, 'r') as file:\n",
    "            data1 = [json.loads(line) for line in file if line.strip()]  # ensure line is not empty\n",
    "\n",
    "        # exploding the 'entries' column\n",
    "        df_exploded = pd.DataFrame(data1).explode('entries')\n",
    "\n",
    "        # rename & delete columns\n",
    "        df_exploded.drop([\"id\", \"view_count\"], axis='columns', inplace=True)\n",
    "        df_exploded.rename(columns={\n",
    "            \"channel\": \"channel_name\",\n",
    "            \"description\": \"channel_description\",\n",
    "            \"uploader_url\": \"channel_uploader_url\",\n",
    "            \"title\": \"channel_title\",\n",
    "        }, inplace=True)\n",
    "\n",
    "        # extracting the dictionaries in the 'entries' column into separate columns\n",
    "        entries_df = df_exploded['entries'].apply(pd.Series)\n",
    "\n",
    "        # concatenating the original columns with the new columns from 'entries' & deleting duplicate cols\n",
    "        df = pd.concat([df_exploded.drop('entries', axis=1), entries_df], axis=1)\n",
    "        df = df.loc[:, ~df.columns.duplicated()].copy()\n",
    "\n",
    "        # filter columns\n",
    "        cols = [\n",
    "            \"channel_id\",\n",
    "            \"channel_name\",\n",
    "            \"channel_description\",\n",
    "            \"channel_uploader_url\",\n",
    "            \"channel_title\",\n",
    "            \"id\",\n",
    "            \"url\",\n",
    "            \"title\",\n",
    "            \"description\",\n",
    "            \"duration\",\n",
    "            \"view_count\",\n",
    "        ]\n",
    "\n",
    "        return df[cols]\n",
    "\n",
    "    def process_all_json_files(self):\n",
    "        # List all JSON files in the directory\n",
    "        all_files = [os.path.join(self.directory, fname) for fname in os.listdir(self.directory) if fname.endswith('.json')]\n",
    "\n",
    "        # Convert each JSON file to a dataframe and store in a list\n",
    "        all_dfs = [self._json_to_df(fname) for fname in all_files]\n",
    "\n",
    "        # Concatenate all dataframes into a single dataframe\n",
    "        final_df = pd.concat(all_dfs, ignore_index=True)\n",
    "\n",
    "        return final_df"
   ]
  },
  {
   "cell_type": "code",
   "execution_count": 56,
   "metadata": {
    "tags": []
   },
   "outputs": [
    {
     "data": {
      "text/html": [
       "<div>\n",
       "<style scoped>\n",
       "    .dataframe tbody tr th:only-of-type {\n",
       "        vertical-align: middle;\n",
       "    }\n",
       "\n",
       "    .dataframe tbody tr th {\n",
       "        vertical-align: top;\n",
       "    }\n",
       "\n",
       "    .dataframe thead th {\n",
       "        text-align: right;\n",
       "    }\n",
       "</style>\n",
       "<table border=\"1\" class=\"dataframe\">\n",
       "  <thead>\n",
       "    <tr style=\"text-align: right;\">\n",
       "      <th></th>\n",
       "      <th>channel_id</th>\n",
       "      <th>channel_name</th>\n",
       "      <th>channel_description</th>\n",
       "      <th>channel_uploader_url</th>\n",
       "      <th>channel_title</th>\n",
       "      <th>id</th>\n",
       "      <th>url</th>\n",
       "      <th>title</th>\n",
       "      <th>description</th>\n",
       "      <th>duration</th>\n",
       "      <th>view_count</th>\n",
       "    </tr>\n",
       "  </thead>\n",
       "  <tbody>\n",
       "    <tr>\n",
       "      <th>0</th>\n",
       "      <td>UCqz5tDLcGBJ5obqpSLSkiaQ</td>\n",
       "      <td>MILEI PRESIDENTE</td>\n",
       "      <td>Javier Milei es la persona idónea para sacarno...</td>\n",
       "      <td>https://www.youtube.com/@MILEIPRESIDENTE</td>\n",
       "      <td>MILEI PRESIDENTE - Videos</td>\n",
       "      <td>9e2oRKLbVUw</td>\n",
       "      <td>https://www.youtube.com/watch?v=9e2oRKLbVUw</td>\n",
       "      <td>El día que Milei debatió con Bullrich: \"Ustede...</td>\n",
       "      <td>Visita nuestro canal colega Daro Darito:\\nhttp...</td>\n",
       "      <td>1048.0</td>\n",
       "      <td>191598</td>\n",
       "    </tr>\n",
       "    <tr>\n",
       "      <th>1</th>\n",
       "      <td>UCqz5tDLcGBJ5obqpSLSkiaQ</td>\n",
       "      <td>MILEI PRESIDENTE</td>\n",
       "      <td>Javier Milei es la persona idónea para sacarno...</td>\n",
       "      <td>https://www.youtube.com/@MILEIPRESIDENTE</td>\n",
       "      <td>MILEI PRESIDENTE - Videos</td>\n",
       "      <td>OaA5wO4ijE0</td>\n",
       "      <td>https://www.youtube.com/watch?v=OaA5wO4ijE0</td>\n",
       "      <td>Universitarios opinan sobre la propuesta educa...</td>\n",
       "      <td>Visita nuestro canal colega Daro Darito:\\nhttp...</td>\n",
       "      <td>379.0</td>\n",
       "      <td>70979</td>\n",
       "    </tr>\n",
       "    <tr>\n",
       "      <th>2</th>\n",
       "      <td>UCqz5tDLcGBJ5obqpSLSkiaQ</td>\n",
       "      <td>MILEI PRESIDENTE</td>\n",
       "      <td>Javier Milei es la persona idónea para sacarno...</td>\n",
       "      <td>https://www.youtube.com/@MILEIPRESIDENTE</td>\n",
       "      <td>MILEI PRESIDENTE - Videos</td>\n",
       "      <td>_KKjM_Y8b8c</td>\n",
       "      <td>https://www.youtube.com/watch?v=_KKjM_Y8b8c</td>\n",
       "      <td>\"No me trates mal\" Milei se cruza con periodis...</td>\n",
       "      <td>Visita nuestro canal colega Daro Darito:\\nhttp...</td>\n",
       "      <td>2059.0</td>\n",
       "      <td>197448</td>\n",
       "    </tr>\n",
       "    <tr>\n",
       "      <th>3</th>\n",
       "      <td>UCqz5tDLcGBJ5obqpSLSkiaQ</td>\n",
       "      <td>MILEI PRESIDENTE</td>\n",
       "      <td>Javier Milei es la persona idónea para sacarno...</td>\n",
       "      <td>https://www.youtube.com/@MILEIPRESIDENTE</td>\n",
       "      <td>MILEI PRESIDENTE - Videos</td>\n",
       "      <td>iCiCTD9hZsc</td>\n",
       "      <td>https://www.youtube.com/watch?v=iCiCTD9hZsc</td>\n",
       "      <td>\"No descarto asumir antes de tiempo\" Imperdibl...</td>\n",
       "      <td>Visita nuestro canal colega Daro Darito:\\nhttp...</td>\n",
       "      <td>3483.0</td>\n",
       "      <td>55979</td>\n",
       "    </tr>\n",
       "    <tr>\n",
       "      <th>4</th>\n",
       "      <td>UCqz5tDLcGBJ5obqpSLSkiaQ</td>\n",
       "      <td>MILEI PRESIDENTE</td>\n",
       "      <td>Javier Milei es la persona idónea para sacarno...</td>\n",
       "      <td>https://www.youtube.com/@MILEIPRESIDENTE</td>\n",
       "      <td>MILEI PRESIDENTE - Videos</td>\n",
       "      <td>NC2JP0lXMuk</td>\n",
       "      <td>https://www.youtube.com/watch?v=NC2JP0lXMuk</td>\n",
       "      <td>Milei elimina ministerios en vivo- 15/08/23</td>\n",
       "      <td>Visita nuestro canal colega Daro Darito:\\nhttp...</td>\n",
       "      <td>895.0</td>\n",
       "      <td>632157</td>\n",
       "    </tr>\n",
       "  </tbody>\n",
       "</table>\n",
       "</div>"
      ],
      "text/plain": [
       "                 channel_id      channel_name  \\\n",
       "0  UCqz5tDLcGBJ5obqpSLSkiaQ  MILEI PRESIDENTE   \n",
       "1  UCqz5tDLcGBJ5obqpSLSkiaQ  MILEI PRESIDENTE   \n",
       "2  UCqz5tDLcGBJ5obqpSLSkiaQ  MILEI PRESIDENTE   \n",
       "3  UCqz5tDLcGBJ5obqpSLSkiaQ  MILEI PRESIDENTE   \n",
       "4  UCqz5tDLcGBJ5obqpSLSkiaQ  MILEI PRESIDENTE   \n",
       "\n",
       "                                 channel_description  \\\n",
       "0  Javier Milei es la persona idónea para sacarno...   \n",
       "1  Javier Milei es la persona idónea para sacarno...   \n",
       "2  Javier Milei es la persona idónea para sacarno...   \n",
       "3  Javier Milei es la persona idónea para sacarno...   \n",
       "4  Javier Milei es la persona idónea para sacarno...   \n",
       "\n",
       "                       channel_uploader_url              channel_title  \\\n",
       "0  https://www.youtube.com/@MILEIPRESIDENTE  MILEI PRESIDENTE - Videos   \n",
       "1  https://www.youtube.com/@MILEIPRESIDENTE  MILEI PRESIDENTE - Videos   \n",
       "2  https://www.youtube.com/@MILEIPRESIDENTE  MILEI PRESIDENTE - Videos   \n",
       "3  https://www.youtube.com/@MILEIPRESIDENTE  MILEI PRESIDENTE - Videos   \n",
       "4  https://www.youtube.com/@MILEIPRESIDENTE  MILEI PRESIDENTE - Videos   \n",
       "\n",
       "            id                                          url  \\\n",
       "0  9e2oRKLbVUw  https://www.youtube.com/watch?v=9e2oRKLbVUw   \n",
       "1  OaA5wO4ijE0  https://www.youtube.com/watch?v=OaA5wO4ijE0   \n",
       "2  _KKjM_Y8b8c  https://www.youtube.com/watch?v=_KKjM_Y8b8c   \n",
       "3  iCiCTD9hZsc  https://www.youtube.com/watch?v=iCiCTD9hZsc   \n",
       "4  NC2JP0lXMuk  https://www.youtube.com/watch?v=NC2JP0lXMuk   \n",
       "\n",
       "                                               title  \\\n",
       "0  El día que Milei debatió con Bullrich: \"Ustede...   \n",
       "1  Universitarios opinan sobre la propuesta educa...   \n",
       "2  \"No me trates mal\" Milei se cruza con periodis...   \n",
       "3  \"No descarto asumir antes de tiempo\" Imperdibl...   \n",
       "4        Milei elimina ministerios en vivo- 15/08/23   \n",
       "\n",
       "                                         description  duration  view_count  \n",
       "0  Visita nuestro canal colega Daro Darito:\\nhttp...    1048.0      191598  \n",
       "1  Visita nuestro canal colega Daro Darito:\\nhttp...     379.0       70979  \n",
       "2  Visita nuestro canal colega Daro Darito:\\nhttp...    2059.0      197448  \n",
       "3  Visita nuestro canal colega Daro Darito:\\nhttp...    3483.0       55979  \n",
       "4  Visita nuestro canal colega Daro Darito:\\nhttp...     895.0      632157  "
      ]
     },
     "execution_count": 56,
     "metadata": {},
     "output_type": "execute_result"
    }
   ],
   "source": [
    "processor = YouTubeDataProcessor(\"../data/youtube_data\")\n",
    "df = processor.process_all_json_files()\n",
    "df.head()"
   ]
  },
  {
   "cell_type": "markdown",
   "metadata": {
    "id": "XwQ4-4BXzII8"
   },
   "source": [
    "## Select top videos based on duration and views"
   ]
  },
  {
   "cell_type": "code",
   "execution_count": 74,
   "metadata": {
    "tags": []
   },
   "outputs": [
    {
     "data": {
      "text/plain": [
       "channel_name\n",
       "MILEI PRESIDENTE     383\n",
       "El Peluca Milei      194\n",
       "Javier Milei          94\n",
       "Sergio Massa          31\n",
       "Patricia Bullrich     22\n",
       "Name: count, dtype: int64"
      ]
     },
     "execution_count": 74,
     "metadata": {},
     "output_type": "execute_result"
    }
   ],
   "source": [
    "subset_df = df[(df.duration > 60*20) & (df.duration < 60*120) & (df.view_count > 1000)].drop_duplicates(subset=['duration'])\n",
    "subset_df.channel_name.value_counts()"
   ]
  },
  {
   "cell_type": "code",
   "execution_count": 76,
   "metadata": {
    "tags": []
   },
   "outputs": [],
   "source": [
    "subset_df[subset_df[\"channel_name\"].isin([\"Javier Milei\", \"Sergio Massa\", \"Patricia Bullrich\"])].to_csv(save_dir/'data.csv', index=False)"
   ]
  },
  {
   "cell_type": "code",
   "execution_count": null,
   "metadata": {},
   "outputs": [],
   "source": []
  }
 ],
 "metadata": {
  "colab": {
   "provenance": []
  },
  "kernelspec": {
   "display_name": "conda_machinelearnear-dev",
   "language": "python",
   "name": "conda_machinelearnear-dev"
  },
  "language_info": {
   "codemirror_mode": {
    "name": "ipython",
    "version": 3
   },
   "file_extension": ".py",
   "mimetype": "text/x-python",
   "name": "python",
   "nbconvert_exporter": "python",
   "pygments_lexer": "ipython3",
   "version": "3.10.12"
  }
 },
 "nbformat": 4,
 "nbformat_minor": 4
}
