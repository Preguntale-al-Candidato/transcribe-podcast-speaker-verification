{
 "cells": [
  {
   "cell_type": "code",
   "execution_count": null,
   "id": "c4fe8ce3-5251-4aac-bc8e-55d13db5c0a8",
   "metadata": {},
   "outputs": [],
   "source": []
  }
 ],
 "metadata": {
  "instance_type": "ml.g4dn.xlarge",
  "kernelspec": {
   "display_name": "",
   "name": ""
  },
  "language_info": {
   "name": ""
  }
 },
 "nbformat": 4,
 "nbformat_minor": 5
}
