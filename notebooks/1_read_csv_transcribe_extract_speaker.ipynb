{
 "cells": [
  {
   "cell_type": "code",
   "execution_count": 1,
   "id": "f61faece-3157-4f90-84ea-08ab229349e5",
   "metadata": {
    "tags": []
   },
   "outputs": [
    {
     "name": "stderr",
     "output_type": "stream",
     "text": [
      "torchvision is not available - cannot save figures\n"
     ]
    }
   ],
   "source": [
    "import pandas as pd\n",
    "import os\n",
    "import yt_dlp\n",
    "import yaml\n",
    "import argparse\n",
    "import whisperx\n",
    "import torch\n",
    "import json\n",
    "import time\n",
    "import shutil\n",
    "\n",
    "from pathlib import Path\n",
    "from pyannote.audio.pipelines.speaker_verification import PretrainedSpeakerEmbedding\n",
    "from pyannote.audio import Audio\n",
    "from pyannote.core import Segment\n",
    "from scipy.spatial.distance import cdist"
   ]
  },
  {
   "cell_type": "code",
   "execution_count": 2,
   "id": "bdaae5ab-fee8-4e07-aa3c-fe125df85534",
   "metadata": {
    "tags": []
   },
   "outputs": [],
   "source": [
    "hf_token = \"<hf-token>\" # https://huggingface.co/settings/tokens\n",
    "cdist_threshold = 0.5 # see below"
   ]
  },
  {
   "cell_type": "code",
   "execution_count": 3,
   "id": "5845cfd3-f8ec-42b1-b6c3-3c1b84460689",
   "metadata": {
    "tags": []
   },
   "outputs": [],
   "source": [
    "reference = {\n",
    "    \"MILEI PRESIDENTE\": \"milei\",\n",
    "    \"El Peluca Milei\": \"milei\",\n",
    "    \"Javier Milei\": \"milei\",\n",
    "    \"Sergio Massa\": \"massa\",\n",
    "    \"Patricia Bullrich\": \"bullrich\",\n",
    "}"
   ]
  },
  {
   "cell_type": "code",
   "execution_count": 4,
   "id": "eeadd2ee-ad6d-489f-bb55-cc0e20cef4e1",
   "metadata": {
    "tags": []
   },
   "outputs": [],
   "source": [
    "data_dir = '../data/youtube_data'\n",
    "ref_audio_dir = '../data/reference_audio'\n",
    "temp_dir = '../data/temp_audio'\n",
    "output_dir = '../output'"
   ]
  },
  {
   "cell_type": "code",
   "execution_count": 5,
   "id": "1f024154-7b1f-4b04-b83a-815413871334",
   "metadata": {
    "tags": []
   },
   "outputs": [],
   "source": [
    "target_audio = f\"{temp_dir}/audio.wav\"\n",
    "input_data = f'{data_dir}/data.csv'"
   ]
  },
  {
   "cell_type": "code",
   "execution_count": 6,
   "id": "81528689-a8e7-4fd8-a494-604b24153b2f",
   "metadata": {
    "tags": []
   },
   "outputs": [],
   "source": [
    "# env initialization\n",
    "device = \"cuda\"\n",
    "batch_size = 32\n",
    "compute_type = \"float16\""
   ]
  },
  {
   "cell_type": "code",
   "execution_count": 7,
   "id": "9d439fff-0a2f-49fb-bb15-d5ea732319ce",
   "metadata": {
    "tags": []
   },
   "outputs": [],
   "source": [
    "data = pd.read_csv(input_data)"
   ]
  },
  {
   "cell_type": "code",
   "execution_count": 8,
   "id": "5cfc7304-7a54-4db4-96e5-88b313b10650",
   "metadata": {
    "tags": []
   },
   "outputs": [
    {
     "data": {
      "text/html": [
       "<div>\n",
       "<style scoped>\n",
       "    .dataframe tbody tr th:only-of-type {\n",
       "        vertical-align: middle;\n",
       "    }\n",
       "\n",
       "    .dataframe tbody tr th {\n",
       "        vertical-align: top;\n",
       "    }\n",
       "\n",
       "    .dataframe thead th {\n",
       "        text-align: right;\n",
       "    }\n",
       "</style>\n",
       "<table border=\"1\" class=\"dataframe\">\n",
       "  <thead>\n",
       "    <tr style=\"text-align: right;\">\n",
       "      <th></th>\n",
       "      <th>channel_id</th>\n",
       "      <th>channel_name</th>\n",
       "      <th>channel_description</th>\n",
       "      <th>channel_uploader_url</th>\n",
       "      <th>channel_title</th>\n",
       "      <th>id</th>\n",
       "      <th>url</th>\n",
       "      <th>title</th>\n",
       "      <th>description</th>\n",
       "      <th>duration</th>\n",
       "      <th>view_count</th>\n",
       "    </tr>\n",
       "  </thead>\n",
       "  <tbody>\n",
       "    <tr>\n",
       "      <th>0</th>\n",
       "      <td>UCwKZnJ48oXRCCGCQbL1BPSA</td>\n",
       "      <td>Javier Milei</td>\n",
       "      <td>Canal Oficial de Javier Milei\\nVLLC!\\n\\n</td>\n",
       "      <td>https://www.youtube.com/@JavierMileiOK</td>\n",
       "      <td>Javier Milei - Videos</td>\n",
       "      <td>zAjBSfFGpKk</td>\n",
       "      <td>https://www.youtube.com/watch?v=zAjBSfFGpKk</td>\n",
       "      <td>MILEI DESTROZA A LUIS MAJUL</td>\n",
       "      <td>Canal Oficial de Javier Milei\\n\\nRedes:\\nInsta...</td>\n",
       "      <td>1703.0</td>\n",
       "      <td>27154</td>\n",
       "    </tr>\n",
       "    <tr>\n",
       "      <th>1</th>\n",
       "      <td>UCwKZnJ48oXRCCGCQbL1BPSA</td>\n",
       "      <td>Javier Milei</td>\n",
       "      <td>Canal Oficial de Javier Milei\\nVLLC!\\n\\n</td>\n",
       "      <td>https://www.youtube.com/@JavierMileiOK</td>\n",
       "      <td>Javier Milei - Videos</td>\n",
       "      <td>yAuIjst9ZIU</td>\n",
       "      <td>https://www.youtube.com/watch?v=yAuIjst9ZIU</td>\n",
       "      <td>JAVIER MILEI CON BABY ETCHECOPAR</td>\n",
       "      <td>Redes:\\nInstagram: https://www.instagram.com/j...</td>\n",
       "      <td>2671.0</td>\n",
       "      <td>6738</td>\n",
       "    </tr>\n",
       "    <tr>\n",
       "      <th>2</th>\n",
       "      <td>UCwKZnJ48oXRCCGCQbL1BPSA</td>\n",
       "      <td>Javier Milei</td>\n",
       "      <td>Canal Oficial de Javier Milei\\nVLLC!\\n\\n</td>\n",
       "      <td>https://www.youtube.com/@JavierMileiOK</td>\n",
       "      <td>Javier Milei - Videos</td>\n",
       "      <td>3pFGfppjiQs</td>\n",
       "      <td>https://www.youtube.com/watch?v=3pFGfppjiQs</td>\n",
       "      <td>JAVIER MILEI RESPONDE TODO EN TN</td>\n",
       "      <td>Redes:\\n\\nInstagram: https://www.instagram.com...</td>\n",
       "      <td>2495.0</td>\n",
       "      <td>1981</td>\n",
       "    </tr>\n",
       "    <tr>\n",
       "      <th>3</th>\n",
       "      <td>UCwKZnJ48oXRCCGCQbL1BPSA</td>\n",
       "      <td>Javier Milei</td>\n",
       "      <td>Canal Oficial de Javier Milei\\nVLLC!\\n\\n</td>\n",
       "      <td>https://www.youtube.com/@JavierMileiOK</td>\n",
       "      <td>Javier Milei - Videos</td>\n",
       "      <td>dsq0YvdQmIE</td>\n",
       "      <td>https://www.youtube.com/watch?v=dsq0YvdQmIE</td>\n",
       "      <td>JAVIER MILEI CON JONATAN VIALE EN LN+</td>\n",
       "      <td>Canal Oficial de Javier Milei\\n\\nRedes:\\nInsta...</td>\n",
       "      <td>3306.0</td>\n",
       "      <td>1530</td>\n",
       "    </tr>\n",
       "    <tr>\n",
       "      <th>4</th>\n",
       "      <td>UCwKZnJ48oXRCCGCQbL1BPSA</td>\n",
       "      <td>Javier Milei</td>\n",
       "      <td>Canal Oficial de Javier Milei\\nVLLC!\\n\\n</td>\n",
       "      <td>https://www.youtube.com/@JavierMileiOK</td>\n",
       "      <td>Javier Milei - Videos</td>\n",
       "      <td>rTR8UdBK8n4</td>\n",
       "      <td>https://www.youtube.com/watch?v=rTR8UdBK8n4</td>\n",
       "      <td>Javier Milei: \"Ningún rival directo me llamó p...</td>\n",
       "      <td>Canal Oficial de Javier Milei\\n\\nRedes:\\nInsta...</td>\n",
       "      <td>2435.0</td>\n",
       "      <td>3252</td>\n",
       "    </tr>\n",
       "  </tbody>\n",
       "</table>\n",
       "</div>"
      ],
      "text/plain": [
       "                 channel_id  channel_name  \\\n",
       "0  UCwKZnJ48oXRCCGCQbL1BPSA  Javier Milei   \n",
       "1  UCwKZnJ48oXRCCGCQbL1BPSA  Javier Milei   \n",
       "2  UCwKZnJ48oXRCCGCQbL1BPSA  Javier Milei   \n",
       "3  UCwKZnJ48oXRCCGCQbL1BPSA  Javier Milei   \n",
       "4  UCwKZnJ48oXRCCGCQbL1BPSA  Javier Milei   \n",
       "\n",
       "                        channel_description  \\\n",
       "0  Canal Oficial de Javier Milei\\nVLLC!\\n\\n   \n",
       "1  Canal Oficial de Javier Milei\\nVLLC!\\n\\n   \n",
       "2  Canal Oficial de Javier Milei\\nVLLC!\\n\\n   \n",
       "3  Canal Oficial de Javier Milei\\nVLLC!\\n\\n   \n",
       "4  Canal Oficial de Javier Milei\\nVLLC!\\n\\n   \n",
       "\n",
       "                     channel_uploader_url          channel_title           id  \\\n",
       "0  https://www.youtube.com/@JavierMileiOK  Javier Milei - Videos  zAjBSfFGpKk   \n",
       "1  https://www.youtube.com/@JavierMileiOK  Javier Milei - Videos  yAuIjst9ZIU   \n",
       "2  https://www.youtube.com/@JavierMileiOK  Javier Milei - Videos  3pFGfppjiQs   \n",
       "3  https://www.youtube.com/@JavierMileiOK  Javier Milei - Videos  dsq0YvdQmIE   \n",
       "4  https://www.youtube.com/@JavierMileiOK  Javier Milei - Videos  rTR8UdBK8n4   \n",
       "\n",
       "                                           url  \\\n",
       "0  https://www.youtube.com/watch?v=zAjBSfFGpKk   \n",
       "1  https://www.youtube.com/watch?v=yAuIjst9ZIU   \n",
       "2  https://www.youtube.com/watch?v=3pFGfppjiQs   \n",
       "3  https://www.youtube.com/watch?v=dsq0YvdQmIE   \n",
       "4  https://www.youtube.com/watch?v=rTR8UdBK8n4   \n",
       "\n",
       "                                               title  \\\n",
       "0                        MILEI DESTROZA A LUIS MAJUL   \n",
       "1                   JAVIER MILEI CON BABY ETCHECOPAR   \n",
       "2                   JAVIER MILEI RESPONDE TODO EN TN   \n",
       "3              JAVIER MILEI CON JONATAN VIALE EN LN+   \n",
       "4  Javier Milei: \"Ningún rival directo me llamó p...   \n",
       "\n",
       "                                         description  duration  view_count  \n",
       "0  Canal Oficial de Javier Milei\\n\\nRedes:\\nInsta...    1703.0       27154  \n",
       "1  Redes:\\nInstagram: https://www.instagram.com/j...    2671.0        6738  \n",
       "2  Redes:\\n\\nInstagram: https://www.instagram.com...    2495.0        1981  \n",
       "3  Canal Oficial de Javier Milei\\n\\nRedes:\\nInsta...    3306.0        1530  \n",
       "4  Canal Oficial de Javier Milei\\n\\nRedes:\\nInsta...    2435.0        3252  "
      ]
     },
     "execution_count": 8,
     "metadata": {},
     "output_type": "execute_result"
    }
   ],
   "source": [
    "data.head()"
   ]
  },
  {
   "cell_type": "code",
   "execution_count": 9,
   "id": "515c202f-72de-4d9b-b54a-2c6d9d2b9778",
   "metadata": {
    "tags": []
   },
   "outputs": [],
   "source": [
    "def download_audio(URL, output_dir, audio_fname:str = 'audio'):\n",
    "    \"\"\"\n",
    "    Download the audio from a YouTube video as a WAV file.\n",
    "    Args:\n",
    "        URL (str): The URL of the YouTube video.\n",
    "        output_dir (str): The directory to save the output file in.\n",
    "        audio_filename (str): The filename to save the output file as.\n",
    "    \"\"\"\n",
    "    shutil.rmtree(output_dir)\n",
    "    Path(output_dir).mkdir(parents=True, exist_ok=True)\n",
    "    ydl_opts = {\n",
    "        'outtmpl': os.path.join(output_dir, audio_fname),\n",
    "        'format': 'm4a/bestaudio/best',\n",
    "        'postprocessors': [{\n",
    "            'key': 'FFmpegExtractAudio',\n",
    "            'preferredcodec': 'wav',\n",
    "        }]\n",
    "    }\n",
    "\n",
    "    with yt_dlp.YoutubeDL(ydl_opts) as ydl:\n",
    "        ydl.download(URL)"
   ]
  },
  {
   "cell_type": "code",
   "execution_count": 10,
   "id": "b7e6fe30-1b14-4a58-8b68-3990de72c97e",
   "metadata": {
    "tags": []
   },
   "outputs": [
    {
     "name": "stdout",
     "output_type": "stream",
     "text": [
      "[youtube] Extracting URL: https://www.youtube.com/watch?v=zAjBSfFGpKk\n",
      "[youtube] zAjBSfFGpKk: Downloading webpage\n"
     ]
    },
    {
     "name": "stderr",
     "output_type": "stream",
     "text": [
      "WARNING: [youtube] unable to extract initial player response; please report this issue on  https://github.com/yt-dlp/yt-dlp/issues?q= , filling out the appropriate issue template. Confirm you are on the latest version using  yt-dlp -U\n"
     ]
    },
    {
     "name": "stdout",
     "output_type": "stream",
     "text": [
      "[youtube] zAjBSfFGpKk: Downloading ios player API JSON\n",
      "[youtube] zAjBSfFGpKk: Downloading android player API JSON\n",
      "[youtube] zAjBSfFGpKk: Downloading iframe API JS\n",
      "[youtube] zAjBSfFGpKk: Downloading player 16f9263d\n",
      "[youtube] zAjBSfFGpKk: Downloading web player API JSON\n",
      "[youtube] zAjBSfFGpKk: Downloading m3u8 information\n"
     ]
    },
    {
     "name": "stderr",
     "output_type": "stream",
     "text": [
      "WARNING: [youtube] unable to extract yt initial data; please report this issue on  https://github.com/yt-dlp/yt-dlp/issues?q= , filling out the appropriate issue template. Confirm you are on the latest version using  yt-dlp -U\n",
      "WARNING: [youtube] Incomplete data received in embedded initial data; re-fetching using API.\n"
     ]
    },
    {
     "name": "stdout",
     "output_type": "stream",
     "text": [
      "[youtube] zAjBSfFGpKk: Downloading initial data API JSON\n",
      "[info] zAjBSfFGpKk: Downloading 1 format(s): 140\n",
      "[download] Destination: ../data/temp_audio/audio\n",
      "[download] 100% of   26.28MiB in 00:00:01 at 25.82MiB/s  \n",
      "[FixupM4a] Correcting container of \"../data/temp_audio/audio\"\n",
      "[ExtractAudio] Destination: ../data/temp_audio/audio.wav\n",
      "Deleting original file ../data/temp_audio/audio (pass -k to keep)\n"
     ]
    }
   ],
   "source": [
    "download_audio(data.iloc[0].url, temp_dir)"
   ]
  },
  {
   "cell_type": "code",
   "execution_count": 11,
   "id": "d565c702-10f3-423e-b665-45d6adffd2dc",
   "metadata": {
    "tags": []
   },
   "outputs": [
    {
     "name": "stderr",
     "output_type": "stream",
     "text": [
      "Lightning automatically upgraded your loaded checkpoint from v1.5.4 to v2.0.7. To apply the upgrade to your files permanently, run `python -m pytorch_lightning.utilities.upgrade_checkpoint --file ../../../.cache/torch/whisperx-vad-segmentation.bin`\n"
     ]
    },
    {
     "name": "stdout",
     "output_type": "stream",
     "text": [
      "No language specified, language will be first be detected for each audio file (increases inference time).\n",
      "Model was trained with pyannote.audio 0.0.1, yours is 2.1.1. Bad things might happen unless you revert pyannote.audio to 0.x.\n",
      "Model was trained with torch 1.10.0+cu102, yours is 2.0.1+cu117. Bad things might happen unless you revert torch to 1.x.\n"
     ]
    }
   ],
   "source": [
    "# transcription model\n",
    "model = whisperx.load_model(\"large-v2\", device, compute_type=compute_type)"
   ]
  },
  {
   "cell_type": "code",
   "execution_count": 12,
   "id": "667cc4a5-4808-4dde-b730-199ebb3a1a3a",
   "metadata": {
    "tags": []
   },
   "outputs": [],
   "source": [
    "# transcribe and perform speaker diarization\n",
    "audio = whisperx.load_audio(target_audio)\n",
    "result = model.transcribe(audio, batch_size=batch_size, language='es')"
   ]
  },
  {
   "cell_type": "code",
   "execution_count": 13,
   "id": "aac1cb8d-9e57-4df1-9980-b25844a74d48",
   "metadata": {
    "tags": []
   },
   "outputs": [],
   "source": [
    "# align whisper output\n",
    "model_a, metadata = whisperx.load_align_model(language_code=result[\"language\"], device=device)\n",
    "result = whisperx.align(result[\"segments\"], model_a, metadata, audio, device, return_char_alignments=False)"
   ]
  },
  {
   "cell_type": "code",
   "execution_count": 14,
   "id": "b5840e3e-e833-4357-a9e3-2ff220696f4a",
   "metadata": {
    "tags": []
   },
   "outputs": [
    {
     "name": "stderr",
     "output_type": "stream",
     "text": [
      "Lightning automatically upgraded your loaded checkpoint from v1.5.4 to v2.0.7. To apply the upgrade to your files permanently, run `python -m pytorch_lightning.utilities.upgrade_checkpoint --file ../../../.cache/torch/pyannote/models--pyannote--segmentation/snapshots/c4c8ceafcbb3a7a280c2d357aee9fbc9b0be7f9b/pytorch_model.bin`\n"
     ]
    },
    {
     "name": "stdout",
     "output_type": "stream",
     "text": [
      "Model was trained with pyannote.audio 0.0.1, yours is 2.1.1. Bad things might happen unless you revert pyannote.audio to 0.x.\n",
      "Model was trained with torch 1.10.0+cu102, yours is 2.0.1+cu117. Bad things might happen unless you revert torch to 1.x.\n"
     ]
    }
   ],
   "source": [
    "# assign speaker labels\n",
    "diarize_model = whisperx.DiarizationPipeline(use_auth_token=hf_token, device=device)\n",
    "diarize_segments = diarize_model(audio)\n",
    "result = whisperx.assign_word_speakers(diarize_segments, result)"
   ]
  },
  {
   "cell_type": "code",
   "execution_count": 15,
   "id": "937a9fe6-2378-4951-8ac2-6494fcdf273d",
   "metadata": {
    "tags": []
   },
   "outputs": [],
   "source": [
    "# load embeddings model\n",
    "embeddings_model = PretrainedSpeakerEmbedding(\n",
    "    \"speechbrain/spkrec-ecapa-voxceleb\",\n",
    "    device=device)"
   ]
  },
  {
   "cell_type": "code",
   "execution_count": 16,
   "id": "ed94e113-8934-4061-9f1f-24bf794befee",
   "metadata": {
    "tags": []
   },
   "outputs": [],
   "source": [
    "# start audio pipeline\n",
    "audio_pipe = Audio(sample_rate=16000, mono=\"downmix\")\n",
    "reference_wav_fname = f'{ref_audio_dir}/audio_{reference[data.iloc[0].channel_name]}.wav'"
   ]
  },
  {
   "cell_type": "code",
   "execution_count": 17,
   "id": "4cf17f5e-5ed8-4d9b-a5d1-60cf5a22811f",
   "metadata": {
    "tags": []
   },
   "outputs": [],
   "source": [
    "# extract embeddings for a speaker speaking between t=0 and t=10s\n",
    "segment_reference = Segment(1., 10.)\n",
    "waveform_reference, sample_rate = audio_pipe.crop(reference_wav_fname, segment_reference)\n",
    "embedding_reference = embeddings_model(waveform_reference[None])"
   ]
  },
  {
   "cell_type": "code",
   "execution_count": 18,
   "id": "d824a392-9b6f-48cf-a137-d6b642fa3f8a",
   "metadata": {
    "tags": []
   },
   "outputs": [
    {
     "name": "stdout",
     "output_type": "stream",
     "text": [
      "total time: 8.39 seconds\n"
     ]
    }
   ],
   "source": [
    "stime = time.time()\n",
    "\n",
    "for segment in result['segments']:\n",
    "    # extract embedding for a speaker speaking between t=Xs and t=Ys\n",
    "    speaker_target = Segment(segment['start'], segment['end'])\n",
    "    waveform_target, sample_rate = audio_pipe.crop(target_audio, speaker_target)\n",
    "    embedding_target = embeddings_model(waveform_target[None])\n",
    "\n",
    "    # compare embeddings using \"cosine\" distance\n",
    "    distance = cdist(embedding_reference, embedding_target, metric=\"cosine\")\n",
    "    segment['cosine_dist'] = distance[0][0]\n",
    "\n",
    "    # save back the info to the dict\n",
    "    segment['is_candidate'] = True if distance[0][0] <= cdist_threshold else False\n",
    "\n",
    "print(f'total time: {time.time()-stime:.2f} seconds')"
   ]
  },
  {
   "cell_type": "code",
   "execution_count": 19,
   "id": "5b41773e-3485-4fdf-956a-06c2cb22bfec",
   "metadata": {
    "tags": []
   },
   "outputs": [],
   "source": [
    "def save_dict_to_disk(data_dict, data, reference, filename:str = None):\n",
    "    \"\"\"\n",
    "    Save a dictionary to disk as a JSON file.\n",
    "    Args:\n",
    "        data_dict (dict): The dictionary to save.\n",
    "        data (DataFrame): A dataframe containing a column 'channel_name'.\n",
    "        reference (dict): A dictionary mapping channel names to some values.\n",
    "        filename (str): The filename to save the output file as (without extension).\n",
    "    \"\"\"\n",
    "    output_dir = f\"../output/{reference[data.channel_name]}\"\n",
    "    Path(output_dir).mkdir(parents=True, exist_ok=True)\n",
    "    filepath = os.path.join(output_dir, f\"{filename}.json\")\n",
    "    \n",
    "    combined_dict = data_dict | data.to_dict()\n",
    "    with open(filepath, 'w') as f:\n",
    "        json.dump(combined_dict, f)\n",
    "    \n",
    "    print(f\"dict saved to {filepath}\")"
   ]
  },
  {
   "cell_type": "code",
   "execution_count": 20,
   "id": "0c109493-73c3-4420-a04f-a3e477f25cbc",
   "metadata": {
    "tags": []
   },
   "outputs": [
    {
     "name": "stdout",
     "output_type": "stream",
     "text": [
      "dict saved to ../output/milei/zAjBSfFGpKk.json\n"
     ]
    }
   ],
   "source": [
    "save_dict_to_disk(result, data.iloc[0], reference, filename = data.iloc[0].id)"
   ]
  },
  {
   "cell_type": "code",
   "execution_count": null,
   "id": "1bd72d7a-a4a4-4de3-b3b5-75e035e808bc",
   "metadata": {},
   "outputs": [],
   "source": []
  }
 ],
 "metadata": {
  "kernelspec": {
   "display_name": "conda_machinelearnear-dev",
   "language": "python",
   "name": "conda_machinelearnear-dev"
  },
  "language_info": {
   "codemirror_mode": {
    "name": "ipython",
    "version": 3
   },
   "file_extension": ".py",
   "mimetype": "text/x-python",
   "name": "python",
   "nbconvert_exporter": "python",
   "pygments_lexer": "ipython3",
   "version": "3.10.12"
  }
 },
 "nbformat": 4,
 "nbformat_minor": 5
}
