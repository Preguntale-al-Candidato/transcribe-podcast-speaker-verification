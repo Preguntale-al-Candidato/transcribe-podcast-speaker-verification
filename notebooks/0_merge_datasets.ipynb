{
 "cells": [
  {
   "cell_type": "code",
   "execution_count": 15,
   "id": "3808f578-8ab9-4802-8acf-2f52f0055ab3",
   "metadata": {
    "tags": []
   },
   "outputs": [],
   "source": [
    "import pandas as pd"
   ]
  },
  {
   "cell_type": "code",
   "execution_count": 16,
   "id": "2f7d0443-5fa9-4dce-8beb-2645f9b1fdfa",
   "metadata": {
    "tags": []
   },
   "outputs": [],
   "source": [
    "data_hq = \"../data/youtube_data\"\n",
    "data_lq = \"../data/youtube_search_data\"\n",
    "fname = \"data.csv\""
   ]
  },
  {
   "cell_type": "code",
   "execution_count": 17,
   "id": "59a3cbfa-bff9-437b-a464-b44be194ccb1",
   "metadata": {
    "tags": []
   },
   "outputs": [],
   "source": [
    "df1 = pd.read_csv(f'{data_hq}/{fname}')\n",
    "df2 = pd.read_csv(f'{data_lq}/{fname}')"
   ]
  },
  {
   "cell_type": "code",
   "execution_count": 18,
   "id": "2643be3f-4d5c-4f36-adc5-48a0cac136b4",
   "metadata": {
    "tags": []
   },
   "outputs": [
    {
     "data": {
      "text/html": [
       "<div>\n",
       "<style scoped>\n",
       "    .dataframe tbody tr th:only-of-type {\n",
       "        vertical-align: middle;\n",
       "    }\n",
       "\n",
       "    .dataframe tbody tr th {\n",
       "        vertical-align: top;\n",
       "    }\n",
       "\n",
       "    .dataframe thead th {\n",
       "        text-align: right;\n",
       "    }\n",
       "</style>\n",
       "<table border=\"1\" class=\"dataframe\">\n",
       "  <thead>\n",
       "    <tr style=\"text-align: right;\">\n",
       "      <th></th>\n",
       "      <th>channel_id</th>\n",
       "      <th>channel</th>\n",
       "      <th>uploader_url</th>\n",
       "      <th>id</th>\n",
       "      <th>url</th>\n",
       "      <th>title</th>\n",
       "      <th>duration</th>\n",
       "      <th>view_count</th>\n",
       "      <th>candidate_name</th>\n",
       "    </tr>\n",
       "  </thead>\n",
       "  <tbody>\n",
       "    <tr>\n",
       "      <th>0</th>\n",
       "      <td>UCwKZnJ48oXRCCGCQbL1BPSA</td>\n",
       "      <td>Javier Milei</td>\n",
       "      <td>https://www.youtube.com/@JavierMileiOK</td>\n",
       "      <td>MjcC8bJ3Mms</td>\n",
       "      <td>https://www.youtube.com/watch?v=MjcC8bJ3Mms</td>\n",
       "      <td>MILEI SOBRE DOLARIZAR ARGENTINA EN LATAM ECONO...</td>\n",
       "      <td>3416.0</td>\n",
       "      <td>2204</td>\n",
       "      <td>milei</td>\n",
       "    </tr>\n",
       "    <tr>\n",
       "      <th>1</th>\n",
       "      <td>UCwKZnJ48oXRCCGCQbL1BPSA</td>\n",
       "      <td>Javier Milei</td>\n",
       "      <td>https://www.youtube.com/@JavierMileiOK</td>\n",
       "      <td>He9KEIP1g7k</td>\n",
       "      <td>https://www.youtube.com/watch?v=He9KEIP1g7k</td>\n",
       "      <td>MILEI VUELVE A RECORRER EL CONURBANO (CON PIPA...</td>\n",
       "      <td>2607.0</td>\n",
       "      <td>4615</td>\n",
       "      <td>milei</td>\n",
       "    </tr>\n",
       "    <tr>\n",
       "      <th>2</th>\n",
       "      <td>UCwKZnJ48oXRCCGCQbL1BPSA</td>\n",
       "      <td>Javier Milei</td>\n",
       "      <td>https://www.youtube.com/@JavierMileiOK</td>\n",
       "      <td>mv9vqpUciKA</td>\n",
       "      <td>https://www.youtube.com/watch?v=mv9vqpUciKA</td>\n",
       "      <td>MILEI REAPARECE EN TV Y HABLA DE TODO: \"Esto v...</td>\n",
       "      <td>3176.0</td>\n",
       "      <td>11710</td>\n",
       "      <td>milei</td>\n",
       "    </tr>\n",
       "    <tr>\n",
       "      <th>3</th>\n",
       "      <td>UCwKZnJ48oXRCCGCQbL1BPSA</td>\n",
       "      <td>Javier Milei</td>\n",
       "      <td>https://www.youtube.com/@JavierMileiOK</td>\n",
       "      <td>zAjBSfFGpKk</td>\n",
       "      <td>https://www.youtube.com/watch?v=zAjBSfFGpKk</td>\n",
       "      <td>MILEI DESTROZA A LUIS MAJUL</td>\n",
       "      <td>1703.0</td>\n",
       "      <td>33382</td>\n",
       "      <td>milei</td>\n",
       "    </tr>\n",
       "    <tr>\n",
       "      <th>4</th>\n",
       "      <td>UCwKZnJ48oXRCCGCQbL1BPSA</td>\n",
       "      <td>Javier Milei</td>\n",
       "      <td>https://www.youtube.com/@JavierMileiOK</td>\n",
       "      <td>yAuIjst9ZIU</td>\n",
       "      <td>https://www.youtube.com/watch?v=yAuIjst9ZIU</td>\n",
       "      <td>JAVIER MILEI CON BABY ETCHECOPAR</td>\n",
       "      <td>2671.0</td>\n",
       "      <td>6903</td>\n",
       "      <td>milei</td>\n",
       "    </tr>\n",
       "  </tbody>\n",
       "</table>\n",
       "</div>"
      ],
      "text/plain": [
       "                 channel_id       channel  \\\n",
       "0  UCwKZnJ48oXRCCGCQbL1BPSA  Javier Milei   \n",
       "1  UCwKZnJ48oXRCCGCQbL1BPSA  Javier Milei   \n",
       "2  UCwKZnJ48oXRCCGCQbL1BPSA  Javier Milei   \n",
       "3  UCwKZnJ48oXRCCGCQbL1BPSA  Javier Milei   \n",
       "4  UCwKZnJ48oXRCCGCQbL1BPSA  Javier Milei   \n",
       "\n",
       "                             uploader_url           id  \\\n",
       "0  https://www.youtube.com/@JavierMileiOK  MjcC8bJ3Mms   \n",
       "1  https://www.youtube.com/@JavierMileiOK  He9KEIP1g7k   \n",
       "2  https://www.youtube.com/@JavierMileiOK  mv9vqpUciKA   \n",
       "3  https://www.youtube.com/@JavierMileiOK  zAjBSfFGpKk   \n",
       "4  https://www.youtube.com/@JavierMileiOK  yAuIjst9ZIU   \n",
       "\n",
       "                                           url  \\\n",
       "0  https://www.youtube.com/watch?v=MjcC8bJ3Mms   \n",
       "1  https://www.youtube.com/watch?v=He9KEIP1g7k   \n",
       "2  https://www.youtube.com/watch?v=mv9vqpUciKA   \n",
       "3  https://www.youtube.com/watch?v=zAjBSfFGpKk   \n",
       "4  https://www.youtube.com/watch?v=yAuIjst9ZIU   \n",
       "\n",
       "                                               title  duration  view_count  \\\n",
       "0  MILEI SOBRE DOLARIZAR ARGENTINA EN LATAM ECONO...    3416.0        2204   \n",
       "1  MILEI VUELVE A RECORRER EL CONURBANO (CON PIPA...    2607.0        4615   \n",
       "2  MILEI REAPARECE EN TV Y HABLA DE TODO: \"Esto v...    3176.0       11710   \n",
       "3                        MILEI DESTROZA A LUIS MAJUL    1703.0       33382   \n",
       "4                   JAVIER MILEI CON BABY ETCHECOPAR    2671.0        6903   \n",
       "\n",
       "  candidate_name  \n",
       "0          milei  \n",
       "1          milei  \n",
       "2          milei  \n",
       "3          milei  \n",
       "4          milei  "
      ]
     },
     "execution_count": 18,
     "metadata": {},
     "output_type": "execute_result"
    }
   ],
   "source": [
    "df1.head()"
   ]
  },
  {
   "cell_type": "code",
   "execution_count": 19,
   "id": "a5e54102-bf6d-47ab-b075-6581d6cfaa4f",
   "metadata": {
    "tags": []
   },
   "outputs": [
    {
     "data": {
      "text/html": [
       "<div>\n",
       "<style scoped>\n",
       "    .dataframe tbody tr th:only-of-type {\n",
       "        vertical-align: middle;\n",
       "    }\n",
       "\n",
       "    .dataframe tbody tr th {\n",
       "        vertical-align: top;\n",
       "    }\n",
       "\n",
       "    .dataframe thead th {\n",
       "        text-align: right;\n",
       "    }\n",
       "</style>\n",
       "<table border=\"1\" class=\"dataframe\">\n",
       "  <thead>\n",
       "    <tr style=\"text-align: right;\">\n",
       "      <th></th>\n",
       "      <th>search_term</th>\n",
       "      <th>channel_id</th>\n",
       "      <th>channel</th>\n",
       "      <th>uploader_url</th>\n",
       "      <th>id</th>\n",
       "      <th>url</th>\n",
       "      <th>title</th>\n",
       "      <th>duration</th>\n",
       "      <th>view_count</th>\n",
       "      <th>candidate_name</th>\n",
       "    </tr>\n",
       "  </thead>\n",
       "  <tbody>\n",
       "    <tr>\n",
       "      <th>0</th>\n",
       "      <td>\"sergio massa\"</td>\n",
       "      <td>UCj6PcyLvpnIRT_2W_mwa9Aw</td>\n",
       "      <td>Todo Noticias</td>\n",
       "      <td>https://www.youtube.com/@todonoticias</td>\n",
       "      <td>r_LjH59QgAs</td>\n",
       "      <td>https://www.youtube.com/watch?v=r_LjH59QgAs</td>\n",
       "      <td>Patricia Bullrich, Javier Milei y Sergio Massa...</td>\n",
       "      <td>5511.0</td>\n",
       "      <td>642300.0</td>\n",
       "      <td>massa</td>\n",
       "    </tr>\n",
       "    <tr>\n",
       "      <th>1</th>\n",
       "      <td>\"sergio massa\"</td>\n",
       "      <td>UCFgk2Q2mVO1BklRQhSv6p0w</td>\n",
       "      <td>C5N</td>\n",
       "      <td>https://www.youtube.com/@c5n</td>\n",
       "      <td>4K5UUfrOynU</td>\n",
       "      <td>https://www.youtube.com/watch?v=4K5UUfrOynU</td>\n",
       "      <td>SERGIO MASSA expuso en el CONSEJO de las AMÉRICAS</td>\n",
       "      <td>1641.0</td>\n",
       "      <td>24925.0</td>\n",
       "      <td>massa</td>\n",
       "    </tr>\n",
       "    <tr>\n",
       "      <th>2</th>\n",
       "      <td>\"sergio massa\"</td>\n",
       "      <td>UCFgk2Q2mVO1BklRQhSv6p0w</td>\n",
       "      <td>C5N</td>\n",
       "      <td>https://www.youtube.com/@c5n</td>\n",
       "      <td>WyBhiYbSBEs</td>\n",
       "      <td>https://www.youtube.com/watch?v=WyBhiYbSBEs</td>\n",
       "      <td>SERGIO MASSA en DURO DE DOMAR | ENTREVISTA COM...</td>\n",
       "      <td>3024.0</td>\n",
       "      <td>49156.0</td>\n",
       "      <td>massa</td>\n",
       "    </tr>\n",
       "    <tr>\n",
       "      <th>3</th>\n",
       "      <td>\"sergio massa\"</td>\n",
       "      <td>UCFgk2Q2mVO1BklRQhSv6p0w</td>\n",
       "      <td>C5N</td>\n",
       "      <td>https://www.youtube.com/@c5n</td>\n",
       "      <td>ELI3qGzOTOI</td>\n",
       "      <td>https://www.youtube.com/watch?v=ELI3qGzOTOI</td>\n",
       "      <td>Los ANUNCIOS de SERGIO MASSA: CONOCÉ las MEDID...</td>\n",
       "      <td>1205.0</td>\n",
       "      <td>49651.0</td>\n",
       "      <td>massa</td>\n",
       "    </tr>\n",
       "    <tr>\n",
       "      <th>4</th>\n",
       "      <td>\"sergio massa\"</td>\n",
       "      <td>UCFgk2Q2mVO1BklRQhSv6p0w</td>\n",
       "      <td>C5N</td>\n",
       "      <td>https://www.youtube.com/@c5n</td>\n",
       "      <td>WAa-PpXCwms</td>\n",
       "      <td>https://www.youtube.com/watch?v=WAa-PpXCwms</td>\n",
       "      <td>PPT: SERGIO MASSA, mano a mano con DADY BRIEVA...</td>\n",
       "      <td>2602.0</td>\n",
       "      <td>94227.0</td>\n",
       "      <td>massa</td>\n",
       "    </tr>\n",
       "  </tbody>\n",
       "</table>\n",
       "</div>"
      ],
      "text/plain": [
       "      search_term                channel_id        channel  \\\n",
       "0  \"sergio massa\"  UCj6PcyLvpnIRT_2W_mwa9Aw  Todo Noticias   \n",
       "1  \"sergio massa\"  UCFgk2Q2mVO1BklRQhSv6p0w            C5N   \n",
       "2  \"sergio massa\"  UCFgk2Q2mVO1BklRQhSv6p0w            C5N   \n",
       "3  \"sergio massa\"  UCFgk2Q2mVO1BklRQhSv6p0w            C5N   \n",
       "4  \"sergio massa\"  UCFgk2Q2mVO1BklRQhSv6p0w            C5N   \n",
       "\n",
       "                            uploader_url           id  \\\n",
       "0  https://www.youtube.com/@todonoticias  r_LjH59QgAs   \n",
       "1           https://www.youtube.com/@c5n  4K5UUfrOynU   \n",
       "2           https://www.youtube.com/@c5n  WyBhiYbSBEs   \n",
       "3           https://www.youtube.com/@c5n  ELI3qGzOTOI   \n",
       "4           https://www.youtube.com/@c5n  WAa-PpXCwms   \n",
       "\n",
       "                                           url  \\\n",
       "0  https://www.youtube.com/watch?v=r_LjH59QgAs   \n",
       "1  https://www.youtube.com/watch?v=4K5UUfrOynU   \n",
       "2  https://www.youtube.com/watch?v=WyBhiYbSBEs   \n",
       "3  https://www.youtube.com/watch?v=ELI3qGzOTOI   \n",
       "4  https://www.youtube.com/watch?v=WAa-PpXCwms   \n",
       "\n",
       "                                               title  duration  view_count  \\\n",
       "0  Patricia Bullrich, Javier Milei y Sergio Massa...    5511.0    642300.0   \n",
       "1  SERGIO MASSA expuso en el CONSEJO de las AMÉRICAS    1641.0     24925.0   \n",
       "2  SERGIO MASSA en DURO DE DOMAR | ENTREVISTA COM...    3024.0     49156.0   \n",
       "3  Los ANUNCIOS de SERGIO MASSA: CONOCÉ las MEDID...    1205.0     49651.0   \n",
       "4  PPT: SERGIO MASSA, mano a mano con DADY BRIEVA...    2602.0     94227.0   \n",
       "\n",
       "  candidate_name  \n",
       "0          massa  \n",
       "1          massa  \n",
       "2          massa  \n",
       "3          massa  \n",
       "4          massa  "
      ]
     },
     "execution_count": 19,
     "metadata": {},
     "output_type": "execute_result"
    }
   ],
   "source": [
    "df2.head()"
   ]
  },
  {
   "cell_type": "code",
   "execution_count": 21,
   "id": "b47b242b-286c-4187-88ab-47889413ac15",
   "metadata": {
    "tags": []
   },
   "outputs": [],
   "source": [
    "# identify common columns\n",
    "common_columns = df1.columns.intersection(df2.columns).to_list()\n",
    "\n",
    "# subset dataframes using the common columns and append\n",
    "result_df = pd.concat([df1[common_columns], df2[common_columns]], ignore_index=True)"
   ]
  },
  {
   "cell_type": "code",
   "execution_count": 23,
   "id": "60e8caef-254b-45d3-9468-e2b1796c9862",
   "metadata": {
    "tags": []
   },
   "outputs": [
    {
     "data": {
      "text/plain": [
       "candidate_name\n",
       "massa       469\n",
       "milei       414\n",
       "bullrich    361\n",
       "Name: count, dtype: int64"
      ]
     },
     "execution_count": 23,
     "metadata": {},
     "output_type": "execute_result"
    }
   ],
   "source": [
    "result_df.candidate_name.value_counts()"
   ]
  }
 ],
 "metadata": {
  "kernelspec": {
   "display_name": "conda_machinelearnear-dev",
   "language": "python",
   "name": "conda_machinelearnear-dev"
  },
  "language_info": {
   "codemirror_mode": {
    "name": "ipython",
    "version": 3
   },
   "file_extension": ".py",
   "mimetype": "text/x-python",
   "name": "python",
   "nbconvert_exporter": "python",
   "pygments_lexer": "ipython3",
   "version": "3.10.12"
  }
 },
 "nbformat": 4,
 "nbformat_minor": 5
}
