{
  "nbformat": 4,
  "nbformat_minor": 0,
  "metadata": {
    "colab": {
      "provenance": [],
      "name": "detect_custom_speaker_from_podcast.ipynb"
    },
    "kernelspec": {
      "name": "python3",
      "display_name": "Python 3"
    },
    "language_info": {
      "name": "python"
    },
    "accelerator": "GPU",
    "gpuClass": "standard"
  },
  "cells": [
    {
      "cell_type": "markdown",
      "source": [
        "# 🧉 Transcribir podcast con timestamps, identificar multiples speakers, y extraer el texto de uno solo\n",
        "- **machinelearnear** 📺 https://www.youtube.com/c/machinelearnear"
      ],
      "metadata": {
        "id": "3TkBM6oS7ROk"
      }
    },
    {
      "cell_type": "markdown",
      "source": [
        "### definir input"
      ],
      "metadata": {
        "id": "TDXxHfxH1Vzt"
      }
    },
    {
      "cell_type": "code",
      "source": [
        "hf_token = \"<aca-va-el-hf-token>\" # https://huggingface.co/settings/tokens\n",
        "youtube_video = 'https://www.youtube.com/watch?v=MZEnIUQGuDg&ab_channel=ElPelucaMilei' # El Método Rebord #48 - Alejandro Dolina\n",
        "youtube_video_candidato = 'https://www.youtube.com/shorts/7iztngtoe-0' # shorts, <= 60 segundos"
      ],
      "metadata": {
        "id": "LlAs6-C_1KfN"
      },
      "execution_count": null,
      "outputs": []
    },
    {
      "cell_type": "markdown",
      "source": [
        "### instalar las cosas"
      ],
      "metadata": {
        "id": "RxxNYfrT8MHh"
      }
    },
    {
      "cell_type": "code",
      "execution_count": null,
      "metadata": {
        "id": "psb7KUiJ6dwk"
      },
      "outputs": [],
      "source": [
        "!pip install git+https://github.com/m-bain/whisperx.git;\n",
        "!python3 -m pip install -U yt-dlp;"
      ]
    },
    {
      "cell_type": "markdown",
      "source": [
        "### download del video desde YT"
      ],
      "metadata": {
        "id": "E3Trcf6-8TJV"
      }
    },
    {
      "cell_type": "code",
      "source": [
        "!python -m yt_dlp --output \"audio.%(ext)s\" --extract-audio --audio-format wav $youtube_video"
      ],
      "metadata": {
        "id": "cq7d7TbQ8ooG"
      },
      "execution_count": null,
      "outputs": []
    },
    {
      "cell_type": "markdown",
      "source": [
        "### transcribir y hacer speaker diarization"
      ],
      "metadata": {
        "id": "iPiU1e9FreCp"
      }
    },
    {
      "cell_type": "code",
      "source": [
        "!whisperx audio.wav --hf_token $hf_token --model large-v2 --language es --align_model WAV2VEC2_ASR_LARGE_LV60K_960H --diarize --min_speakers 2"
      ],
      "metadata": {
        "id": "ejlTXf1u7QFz"
      },
      "execution_count": null,
      "outputs": []
    },
    {
      "cell_type": "markdown",
      "source": [
        "### mergear segmentos basandonos en los speakers"
      ],
      "metadata": {
        "id": "n14ON_jhAJ3v"
      }
    },
    {
      "cell_type": "code",
      "source": [
        "import json\n",
        "\n",
        "# Load the JSON file\n",
        "with open(\"audio.json\", \"r\") as file:\n",
        "    data = json.load(file)"
      ],
      "metadata": {
        "id": "JiKJFz-3OwAW"
      },
      "execution_count": null,
      "outputs": []
    },
    {
      "cell_type": "code",
      "source": [
        "data['segments'][0]['speaker']"
      ],
      "metadata": {
        "id": "RjkKD1CmLSKk"
      },
      "execution_count": null,
      "outputs": []
    },
    {
      "cell_type": "markdown",
      "source": [
        "### hacer speaker verification tomando un clip de audio del candidato como baseline"
      ],
      "metadata": {
        "id": "iw2QcyaY6FvK"
      }
    },
    {
      "cell_type": "code",
      "source": [
        "!python -m yt_dlp --output \"audio_candidato.%(ext)s\" --extract-audio --audio-format wav $youtube_video_candidato"
      ],
      "metadata": {
        "id": "hCdr1h5m8bLd"
      },
      "execution_count": null,
      "outputs": []
    },
    {
      "cell_type": "code",
      "source": [
        "import torch\n",
        "from pyannote.audio.pipelines.speaker_verification import PretrainedSpeakerEmbedding\n",
        "model = PretrainedSpeakerEmbedding(\n",
        "    \"speechbrain/spkrec-ecapa-voxceleb\",\n",
        "    device=torch.device(\"cuda\"))"
      ],
      "metadata": {
        "id": "TtA30giZN27I"
      },
      "execution_count": null,
      "outputs": []
    },
    {
      "cell_type": "code",
      "source": [
        "from pyannote.audio import Audio\n",
        "from pyannote.core import Segment\n",
        "from scipy.spatial.distance import cdist\n",
        "\n",
        "audio = Audio(sample_rate=16000, mono=\"downmix\")"
      ],
      "metadata": {
        "id": "hqjFq4_AOBi3"
      },
      "execution_count": null,
      "outputs": []
    },
    {
      "cell_type": "code",
      "source": [
        "# extract embedding for a speaker speaking between t=3s and t=6s\n",
        "candidato = Segment(1., 15.)\n",
        "waveform_candidato, sample_rate = audio.crop(\"audio_candidato.wav\", candidato)\n",
        "embedding_candidato = model(waveform_candidato[None])"
      ],
      "metadata": {
        "id": "EIG3SgzwOPHQ"
      },
      "execution_count": null,
      "outputs": []
    },
    {
      "cell_type": "code",
      "source": [
        "import time\n",
        "\n",
        "stime = time.time()"
      ],
      "metadata": {
        "id": "uN1PmBdjUoaQ"
      },
      "execution_count": null,
      "outputs": []
    },
    {
      "cell_type": "code",
      "source": [
        "import time\n",
        "\n",
        "stime = time.time()\n",
        "\n",
        "for segment in data['segments']:\n",
        "  # extract embedding for a speaker speaking between t=Xs and t=Ys\n",
        "  target_speaker = Segment(segment['start'], segment['end'])\n",
        "  waveform_target, sample_rate = audio.crop(\"audio.wav\", target_speaker)\n",
        "  embedding_target = model(waveform_target[None])\n",
        "\n",
        "  # compare embeddings using \"cosine\" distance\n",
        "  distance = cdist(embedding_candidato, embedding_target, metric=\"cosine\")\n",
        "\n",
        "  # save back the info to the dict\n",
        "  segment['is_candidate'] = True if distance[0][0] <= 0.5 else False\n",
        "\n",
        "print(f'total time: {time.time()-stime:.2f} seconds')"
      ],
      "metadata": {
        "id": "l-2jbOb3Ohoe"
      },
      "execution_count": null,
      "outputs": []
    },
    {
      "cell_type": "code",
      "source": [
        "for segment in data['segments']:\n",
        "  if segment['is_candidate']:\n",
        "    print(f\"Start: {segment['start']}, End: {segment['end']}, Text: {segment['text'].strip()}\")"
      ],
      "metadata": {
        "id": "nRGxPYtJULhG"
      },
      "execution_count": null,
      "outputs": []
    }
  ]
}