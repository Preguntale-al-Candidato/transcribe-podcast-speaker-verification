{
 "cells": [
  {
   "cell_type": "code",
   "execution_count": 1,
   "id": "9518a280-44d1-4cd9-8073-620abacc1b2b",
   "metadata": {
    "tags": []
   },
   "outputs": [],
   "source": [
    "import os\n",
    "import json\n",
    "\n",
    "base_path = '../output'\n",
    "candidate_folders = ['bullrich', 'massa', 'milei', 'schiaretti', 'bregman']\n",
    "\n",
    "# store all transcribed phrases for each candidate\n",
    "transcriptions = {candidate: [] for candidate in candidate_folders}\n",
    "\n",
    "for candidate in candidate_folders:\n",
    "    folder_path = os.path.join(base_path, candidate)\n",
    "\n",
    "    for filename in os.listdir(folder_path):\n",
    "        if filename.endswith('.json'):\n",
    "            filepath = os.path.join(folder_path, filename)\n",
    "\n",
    "            with open(filepath, 'r') as f:\n",
    "                content = json.load(f)\n",
    "                if isinstance(content, dict):\n",
    "                    transcriptions[candidate].append(content)\n",
    "                elif isinstance(content, list):\n",
    "                    transcriptions[candidate].extend(content)"
   ]
  },
  {
   "cell_type": "code",
   "execution_count": 2,
   "id": "9290c3f7-5a8f-43d6-9409-a5d87d5ab725",
   "metadata": {
    "tags": []
   },
   "outputs": [],
   "source": [
    "# let's write a function that takes the 'segments' array and the candidate's name as inputs and returns the desired long text.\n",
    "\n",
    "def generate_long_text(segments, candidate_name):\n",
    "    long_text = []\n",
    "    for segment in segments:\n",
    "        speaker = \"Host\" if not segment['is_candidate'] else candidate_name\n",
    "        text = f\"{speaker}: {segment['text'].strip()}\"\n",
    "        long_text.append(text)\n",
    "    return long_text"
   ]
  },
  {
   "cell_type": "code",
   "execution_count": 50,
   "id": "ee0822dc-9e36-422f-adbf-35837c1e311d",
   "metadata": {
    "tags": []
   },
   "outputs": [],
   "source": [
    "candidate_name_test = \"milei\"\n",
    "example_segments = transcriptions[candidate_name_test][100]['segments']"
   ]
  },
  {
   "cell_type": "code",
   "execution_count": 51,
   "id": "4f899912-77fb-47d2-aa5a-49f258d865b8",
   "metadata": {
    "tags": []
   },
   "outputs": [],
   "source": [
    "summary = generate_long_text(example_segments, candidate_name_test)"
   ]
  },
  {
   "cell_type": "markdown",
   "id": "f43ccfa4-b1bd-4a7f-b380-e627fc0eb220",
   "metadata": {},
   "source": [
    "## `Mistral-7B`"
   ]
  },
  {
   "cell_type": "code",
   "execution_count": null,
   "id": "260ae019-e567-4bee-856c-f8d3ef23a86a",
   "metadata": {},
   "outputs": [],
   "source": []
  }
 ],
 "metadata": {
  "kernelspec": {
   "display_name": "Python [conda env:machinelearnear-dev]",
   "language": "python",
   "name": "conda-env-machinelearnear-dev-py"
  },
  "language_info": {
   "codemirror_mode": {
    "name": "ipython",
    "version": 3
   },
   "file_extension": ".py",
   "mimetype": "text/x-python",
   "name": "python",
   "nbconvert_exporter": "python",
   "pygments_lexer": "ipython3",
   "version": "3.10.13"
  }
 },
 "nbformat": 4,
 "nbformat_minor": 5
}
