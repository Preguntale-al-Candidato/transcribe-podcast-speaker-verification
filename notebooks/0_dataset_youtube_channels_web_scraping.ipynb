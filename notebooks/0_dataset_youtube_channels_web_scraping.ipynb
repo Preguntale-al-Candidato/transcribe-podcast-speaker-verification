{
 "cells": [
  {
   "cell_type": "markdown",
   "metadata": {
    "tags": []
   },
   "source": [
    "# Extract video information from YouTube channels"
   ]
  },
  {
   "cell_type": "markdown",
   "metadata": {},
   "source": [
    "`yt-dlp` is a command-line program to download videos from YouTube and a few more sites, and it is a more feature-rich fork of `youtube-dl`. It can extract and provide information in various formats, including JSON.\n",
    "\n",
    "To use `yt-dlp` from within a Jupyter Notebook, you can use the `!` shell command magic. You've already provided an example of how you use yt-dlp to dump information in JSON format.\n",
    "\n",
    "To extract specific information such as video duration, title, URL, and views, you can follow these steps:\n",
    "\n",
    "- Use `yt-dlp` with `--dump-json` to retrieve the information in JSON format.\n",
    "- Parse the JSON output to filter and extract the desired fields."
   ]
  },
  {
   "cell_type": "code",
   "execution_count": 1,
   "metadata": {
    "tags": []
   },
   "outputs": [],
   "source": [
    "import shutil\n",
    "import yt_dlp\n",
    "import json\n",
    "from pathlib import Path\n",
    "from tqdm import tqdm"
   ]
  },
  {
   "cell_type": "markdown",
   "metadata": {},
   "source": [
    "# Extract information from known channels where the candidate is the main speaker"
   ]
  },
  {
   "cell_type": "code",
   "execution_count": 40,
   "metadata": {
    "tags": []
   },
   "outputs": [],
   "source": [
    "mapping = {\n",
    "    \"milei presidente\": \"milei\",\n",
    "    \"el peluca milei\": \"milei\",\n",
    "    \"javier milei\": \"milei\",\n",
    "    \"sergio massa\": \"massa\",\n",
    "    \"patricia bullrich\": \"bullrich\",\n",
    "}"
   ]
  },
  {
   "cell_type": "code",
   "execution_count": 37,
   "metadata": {
    "tags": []
   },
   "outputs": [],
   "source": [
    "target_channels = [\n",
    "    \"@ElPelucaMilei\",\n",
    "    \"@MILEIPRESIDENTE\",\n",
    "    \"@JavierMileiOK\",\n",
    "    \"@PatriciaBullrich\",\n",
    "    \"@SergioMassa\",\n",
    "]"
   ]
  },
  {
   "cell_type": "code",
   "execution_count": 38,
   "metadata": {
    "tags": []
   },
   "outputs": [],
   "source": [
    "save_dir = Path(\"../data/youtube_data\")\n",
    "shutil.rmtree(save_dir)\n",
    "Path(save_dir).mkdir(parents=True, exist_ok=True)"
   ]
  },
  {
   "cell_type": "code",
   "execution_count": 56,
   "metadata": {
    "tags": []
   },
   "outputs": [],
   "source": [
    "def save_to_json(data, file_path):\n",
    "    \"\"\"\n",
    "    Save data to a JSON file.\n",
    "\n",
    "    Args:\n",
    "        data (dict): The data to save.\n",
    "        file_path (str): The path to the file where the data should be saved.\n",
    "    \"\"\"\n",
    "    with open(file_path, 'w') as json_file:\n",
    "        json.dump(data, json_file, indent=4)"
   ]
  },
  {
   "cell_type": "code",
   "execution_count": 57,
   "metadata": {
    "tags": []
   },
   "outputs": [
    {
     "name": "stderr",
     "output_type": "stream",
     "text": [
      "  0%|          | 0/5 [00:00<?, ?it/s]WARNING: [youtube:tab] unable to extract yt initial data; please report this issue on  https://github.com/yt-dlp/yt-dlp/issues?q= , filling out the appropriate issue template. Confirm you are on the latest version using  yt-dlp -U\n",
      "WARNING: [youtube:tab] Incomplete yt initial data received. Retrying (1/3)...\n",
      "WARNING: [youtube:tab] unable to extract yt initial data; please report this issue on  https://github.com/yt-dlp/yt-dlp/issues?q= , filling out the appropriate issue template. Confirm you are on the latest version using  yt-dlp -U\n",
      "WARNING: [youtube:tab] Incomplete yt initial data received. Retrying (2/3)...\n",
      "WARNING: [youtube:tab] unable to extract yt initial data; please report this issue on  https://github.com/yt-dlp/yt-dlp/issues?q= , filling out the appropriate issue template. Confirm you are on the latest version using  yt-dlp -U\n",
      "WARNING: [youtube:tab] Incomplete yt initial data received. Retrying (3/3)...\n",
      "WARNING: [youtube:tab] unable to extract yt initial data; please report this issue on  https://github.com/yt-dlp/yt-dlp/issues?q= , filling out the appropriate issue template. Confirm you are on the latest version using  yt-dlp -U\n",
      "WARNING: [youtube:tab] Incomplete yt initial data received; please report this issue on  https://github.com/yt-dlp/yt-dlp/issues?q= , filling out the appropriate issue template. Confirm you are on the latest version using  yt-dlp -U. Giving up after 3 retries\n",
      " 20%|██        | 1/5 [00:05<00:20,  5.25s/it]WARNING: [youtube:tab] unable to extract yt initial data; please report this issue on  https://github.com/yt-dlp/yt-dlp/issues?q= , filling out the appropriate issue template. Confirm you are on the latest version using  yt-dlp -U\n",
      "WARNING: [youtube:tab] Incomplete yt initial data received. Retrying (1/3)...\n",
      "WARNING: [youtube:tab] unable to extract yt initial data; please report this issue on  https://github.com/yt-dlp/yt-dlp/issues?q= , filling out the appropriate issue template. Confirm you are on the latest version using  yt-dlp -U\n",
      "WARNING: [youtube:tab] Incomplete yt initial data received. Retrying (2/3)...\n",
      "WARNING: [youtube:tab] unable to extract yt initial data; please report this issue on  https://github.com/yt-dlp/yt-dlp/issues?q= , filling out the appropriate issue template. Confirm you are on the latest version using  yt-dlp -U\n",
      "WARNING: [youtube:tab] Incomplete yt initial data received. Retrying (3/3)...\n",
      "WARNING: [youtube:tab] unable to extract yt initial data; please report this issue on  https://github.com/yt-dlp/yt-dlp/issues?q= , filling out the appropriate issue template. Confirm you are on the latest version using  yt-dlp -U\n",
      "WARNING: [youtube:tab] Incomplete yt initial data received; please report this issue on  https://github.com/yt-dlp/yt-dlp/issues?q= , filling out the appropriate issue template. Confirm you are on the latest version using  yt-dlp -U. Giving up after 3 retries\n",
      " 40%|████      | 2/5 [00:10<00:15,  5.03s/it]WARNING: [youtube:tab] unable to extract yt initial data; please report this issue on  https://github.com/yt-dlp/yt-dlp/issues?q= , filling out the appropriate issue template. Confirm you are on the latest version using  yt-dlp -U\n",
      "WARNING: [youtube:tab] Incomplete yt initial data received. Retrying (1/3)...\n",
      "WARNING: [youtube:tab] unable to extract yt initial data; please report this issue on  https://github.com/yt-dlp/yt-dlp/issues?q= , filling out the appropriate issue template. Confirm you are on the latest version using  yt-dlp -U\n",
      "WARNING: [youtube:tab] Incomplete yt initial data received. Retrying (2/3)...\n",
      "WARNING: [youtube:tab] unable to extract yt initial data; please report this issue on  https://github.com/yt-dlp/yt-dlp/issues?q= , filling out the appropriate issue template. Confirm you are on the latest version using  yt-dlp -U\n",
      "WARNING: [youtube:tab] Incomplete yt initial data received. Retrying (3/3)...\n",
      "WARNING: [youtube:tab] unable to extract yt initial data; please report this issue on  https://github.com/yt-dlp/yt-dlp/issues?q= , filling out the appropriate issue template. Confirm you are on the latest version using  yt-dlp -U\n",
      "WARNING: [youtube:tab] Incomplete yt initial data received; please report this issue on  https://github.com/yt-dlp/yt-dlp/issues?q= , filling out the appropriate issue template. Confirm you are on the latest version using  yt-dlp -U. Giving up after 3 retries\n",
      " 60%|██████    | 3/5 [00:15<00:10,  5.00s/it]WARNING: [youtube:tab] unable to extract yt initial data; please report this issue on  https://github.com/yt-dlp/yt-dlp/issues?q= , filling out the appropriate issue template. Confirm you are on the latest version using  yt-dlp -U\n",
      "WARNING: [youtube:tab] Incomplete yt initial data received. Retrying (1/3)...\n",
      "WARNING: [youtube:tab] unable to extract yt initial data; please report this issue on  https://github.com/yt-dlp/yt-dlp/issues?q= , filling out the appropriate issue template. Confirm you are on the latest version using  yt-dlp -U\n",
      "WARNING: [youtube:tab] Incomplete yt initial data received. Retrying (2/3)...\n",
      "WARNING: [youtube:tab] unable to extract yt initial data; please report this issue on  https://github.com/yt-dlp/yt-dlp/issues?q= , filling out the appropriate issue template. Confirm you are on the latest version using  yt-dlp -U\n",
      "WARNING: [youtube:tab] Incomplete yt initial data received. Retrying (3/3)...\n",
      "WARNING: [youtube:tab] unable to extract yt initial data; please report this issue on  https://github.com/yt-dlp/yt-dlp/issues?q= , filling out the appropriate issue template. Confirm you are on the latest version using  yt-dlp -U\n",
      "WARNING: [youtube:tab] Incomplete yt initial data received; please report this issue on  https://github.com/yt-dlp/yt-dlp/issues?q= , filling out the appropriate issue template. Confirm you are on the latest version using  yt-dlp -U. Giving up after 3 retries\n",
      " 60%|██████    | 3/5 [00:18<00:12,  6.22s/it]\n",
      "\n",
      "KeyboardInterrupt\n",
      "\n"
     ]
    }
   ],
   "source": [
    "# see help(yt_dlp.YoutubeDL) for a list of available options and public functions\n",
    "for name in tqdm(target_channels):\n",
    "    URL = \"https://www.youtube.com/{}/videos\"\n",
    "    fname = f\"{save_dir}/{name}.json\"\n",
    "\n",
    "    ydl_opts = {\n",
    "        \"extract_flat\": True,\n",
    "        \"quiet\": True\n",
    "    }\n",
    "    with yt_dlp.YoutubeDL(ydl_opts) as ydl:\n",
    "        info = ydl.extract_info(\n",
    "            URL.format(name), download=False)\n",
    "        save_to_json(info, fname)"
   ]
  },
  {
   "cell_type": "markdown",
   "metadata": {},
   "source": [
    "## Read JSONs and concatenate files on a single `Pandas` dataframe"
   ]
  },
  {
   "cell_type": "markdown",
   "metadata": {},
   "source": [
    "### YouTubeDataProcessor\n",
    "\n",
    "The `YouTubeDataProcessor` class is designed to process and transform JSON data obtained from YouTube channels into a structured pandas DataFrame. This data, typically extracted using tools like `yt-dlp`, is organized in a manner that requires certain processing steps to be made suitable for data analysis.\n",
    "\n",
    "#### Features:\n",
    "\n",
    "1. **Directory-Based Processing**: \n",
    "   The class is initialized with a directory path containing the JSON files. It can process multiple JSON files from this directory and concatenate the results into a single dataframe.\n",
    "\n",
    "2. **Structured Data Transformation**: \n",
    "   The class handles various preprocessing steps:\n",
    "   - **Explosion of the `entries` Column**: Each JSON contains a key named `entries` that holds several entries. The class ensures that each entry gets its own row in the dataframe.\n",
    "   - **Column Renaming & Deletion**: Some columns are renamed for clarity, and others are dropped to clean the data.\n",
    "   - **Extraction of Nested Data**: Data nested within dictionaries is extracted into separate columns.\n",
    "   - **Column Filtering**: Only necessary columns are retained in the final dataframe for a concise output.\n",
    "\n",
    "#### Usage:\n",
    "\n",
    "Initialize the class with the directory containing your JSON files:\n",
    "\n",
    "```python\n",
    "processor = YouTubeDataProcessor(\"path_to_your_directory\")\n",
    "```\n",
    "\n",
    "Then, call the `process_all_json_files` method to process all JSON files and get the resulting dataframe:\n",
    "\n",
    "```\n",
    "df = processor.process_all_json_files()\n",
    "```"
   ]
  },
  {
   "cell_type": "code",
   "execution_count": 48,
   "metadata": {
    "tags": []
   },
   "outputs": [],
   "source": [
    "import pandas as pd\n",
    "\n",
    "class YouTubeDataProcessor:\n",
    "    def __init__(self, directory):\n",
    "        self.directory = directory\n",
    "\n",
    "    def _json_to_df(self, fname):\n",
    "        with open(fname, 'r') as file:\n",
    "            data1 = [json.loads(line) for line in file if line.strip()]  # ensure line is not empty\n",
    "\n",
    "        # exploding the 'entries' column\n",
    "        df_exploded = pd.DataFrame(data1).explode('entries')\n",
    "\n",
    "        # rename & delete columns\n",
    "        df_exploded.drop([\"id\", \"view_count\"], axis='columns', inplace=True)\n",
    "        df_exploded.rename(columns={\n",
    "            # \"channel\": \"channel_name\",\n",
    "            # \"uploader_url\": \"channel_uploader_url\",\n",
    "            \"title\": \"channel_title\",\n",
    "        }, inplace=True)\n",
    "\n",
    "        # extracting the dictionaries in the 'entries' column into separate columns\n",
    "        entries_df = df_exploded['entries'].apply(pd.Series)\n",
    "\n",
    "        # concatenating the original columns with the new columns from 'entries' & deleting duplicate cols\n",
    "        df = pd.concat([df_exploded.drop('entries', axis=1), entries_df], axis=1)\n",
    "        df = df.loc[:, ~df.columns.duplicated()].copy()\n",
    "\n",
    "        # filter columns\n",
    "        cols = [\n",
    "            \"channel_id\",\n",
    "            \"channel\",\n",
    "            \"uploader_url\",\n",
    "            \"id\",\n",
    "            \"url\",\n",
    "            \"title\",\n",
    "            \"duration\",\n",
    "            \"view_count\",\n",
    "        ]\n",
    "\n",
    "        return df[cols]\n",
    "\n",
    "    def process_all_json_files(self):\n",
    "        # list all JSON files in the directory\n",
    "        all_files = [os.path.join(self.directory, fname) for fname in os.listdir(self.directory) if fname.endswith('.json')]\n",
    "\n",
    "        # convert each JSON file to a dataframe and store in a list\n",
    "        all_dfs = [self._json_to_df(fname) for fname in all_files]\n",
    "\n",
    "        # concatenate all dataframes into a single dataframe\n",
    "        final_df = pd.concat(all_dfs, ignore_index=True)\n",
    "\n",
    "        # add names\n",
    "        final_df['candidate_name'] = final_df['channel'].str.lower().map(mapping)\n",
    "\n",
    "        return final_df"
   ]
  },
  {
   "cell_type": "code",
   "execution_count": 49,
   "metadata": {
    "tags": []
   },
   "outputs": [
    {
     "data": {
      "text/html": [
       "<div>\n",
       "<style scoped>\n",
       "    .dataframe tbody tr th:only-of-type {\n",
       "        vertical-align: middle;\n",
       "    }\n",
       "\n",
       "    .dataframe tbody tr th {\n",
       "        vertical-align: top;\n",
       "    }\n",
       "\n",
       "    .dataframe thead th {\n",
       "        text-align: right;\n",
       "    }\n",
       "</style>\n",
       "<table border=\"1\" class=\"dataframe\">\n",
       "  <thead>\n",
       "    <tr style=\"text-align: right;\">\n",
       "      <th></th>\n",
       "      <th>channel_id</th>\n",
       "      <th>channel</th>\n",
       "      <th>uploader_url</th>\n",
       "      <th>id</th>\n",
       "      <th>url</th>\n",
       "      <th>title</th>\n",
       "      <th>duration</th>\n",
       "      <th>view_count</th>\n",
       "      <th>candidate_name</th>\n",
       "    </tr>\n",
       "  </thead>\n",
       "  <tbody>\n",
       "    <tr>\n",
       "      <th>0</th>\n",
       "      <td>UCqz5tDLcGBJ5obqpSLSkiaQ</td>\n",
       "      <td>MILEI PRESIDENTE</td>\n",
       "      <td>https://www.youtube.com/@MILEIPRESIDENTE</td>\n",
       "      <td>4mmsBbQMZ6o</td>\n",
       "      <td>https://www.youtube.com/watch?v=4mmsBbQMZ6o</td>\n",
       "      <td>\"Este canal miente sobre mí\" Milei desenmascar...</td>\n",
       "      <td>3172.0</td>\n",
       "      <td>50636</td>\n",
       "      <td>milei</td>\n",
       "    </tr>\n",
       "    <tr>\n",
       "      <th>1</th>\n",
       "      <td>UCqz5tDLcGBJ5obqpSLSkiaQ</td>\n",
       "      <td>MILEI PRESIDENTE</td>\n",
       "      <td>https://www.youtube.com/@MILEIPRESIDENTE</td>\n",
       "      <td>xd49Kl9XEw8</td>\n",
       "      <td>https://www.youtube.com/watch?v=xd49Kl9XEw8</td>\n",
       "      <td>\"Mat4ron a uno de nuestros militantes\" Javier ...</td>\n",
       "      <td>592.0</td>\n",
       "      <td>108411</td>\n",
       "      <td>milei</td>\n",
       "    </tr>\n",
       "    <tr>\n",
       "      <th>2</th>\n",
       "      <td>UCqz5tDLcGBJ5obqpSLSkiaQ</td>\n",
       "      <td>MILEI PRESIDENTE</td>\n",
       "      <td>https://www.youtube.com/@MILEIPRESIDENTE</td>\n",
       "      <td>9e2oRKLbVUw</td>\n",
       "      <td>https://www.youtube.com/watch?v=9e2oRKLbVUw</td>\n",
       "      <td>El día que Milei debatió con Bullrich: \"Ustede...</td>\n",
       "      <td>1048.0</td>\n",
       "      <td>232416</td>\n",
       "      <td>milei</td>\n",
       "    </tr>\n",
       "    <tr>\n",
       "      <th>3</th>\n",
       "      <td>UCqz5tDLcGBJ5obqpSLSkiaQ</td>\n",
       "      <td>MILEI PRESIDENTE</td>\n",
       "      <td>https://www.youtube.com/@MILEIPRESIDENTE</td>\n",
       "      <td>OaA5wO4ijE0</td>\n",
       "      <td>https://www.youtube.com/watch?v=OaA5wO4ijE0</td>\n",
       "      <td>Universitarios opinan sobre la propuesta educa...</td>\n",
       "      <td>379.0</td>\n",
       "      <td>75323</td>\n",
       "      <td>milei</td>\n",
       "    </tr>\n",
       "    <tr>\n",
       "      <th>4</th>\n",
       "      <td>UCqz5tDLcGBJ5obqpSLSkiaQ</td>\n",
       "      <td>MILEI PRESIDENTE</td>\n",
       "      <td>https://www.youtube.com/@MILEIPRESIDENTE</td>\n",
       "      <td>_KKjM_Y8b8c</td>\n",
       "      <td>https://www.youtube.com/watch?v=_KKjM_Y8b8c</td>\n",
       "      <td>\"No me trates mal\" Milei se cruza con periodis...</td>\n",
       "      <td>2059.0</td>\n",
       "      <td>201391</td>\n",
       "      <td>milei</td>\n",
       "    </tr>\n",
       "  </tbody>\n",
       "</table>\n",
       "</div>"
      ],
      "text/plain": [
       "                 channel_id           channel  \\\n",
       "0  UCqz5tDLcGBJ5obqpSLSkiaQ  MILEI PRESIDENTE   \n",
       "1  UCqz5tDLcGBJ5obqpSLSkiaQ  MILEI PRESIDENTE   \n",
       "2  UCqz5tDLcGBJ5obqpSLSkiaQ  MILEI PRESIDENTE   \n",
       "3  UCqz5tDLcGBJ5obqpSLSkiaQ  MILEI PRESIDENTE   \n",
       "4  UCqz5tDLcGBJ5obqpSLSkiaQ  MILEI PRESIDENTE   \n",
       "\n",
       "                               uploader_url           id  \\\n",
       "0  https://www.youtube.com/@MILEIPRESIDENTE  4mmsBbQMZ6o   \n",
       "1  https://www.youtube.com/@MILEIPRESIDENTE  xd49Kl9XEw8   \n",
       "2  https://www.youtube.com/@MILEIPRESIDENTE  9e2oRKLbVUw   \n",
       "3  https://www.youtube.com/@MILEIPRESIDENTE  OaA5wO4ijE0   \n",
       "4  https://www.youtube.com/@MILEIPRESIDENTE  _KKjM_Y8b8c   \n",
       "\n",
       "                                           url  \\\n",
       "0  https://www.youtube.com/watch?v=4mmsBbQMZ6o   \n",
       "1  https://www.youtube.com/watch?v=xd49Kl9XEw8   \n",
       "2  https://www.youtube.com/watch?v=9e2oRKLbVUw   \n",
       "3  https://www.youtube.com/watch?v=OaA5wO4ijE0   \n",
       "4  https://www.youtube.com/watch?v=_KKjM_Y8b8c   \n",
       "\n",
       "                                               title  duration  view_count  \\\n",
       "0  \"Este canal miente sobre mí\" Milei desenmascar...    3172.0       50636   \n",
       "1  \"Mat4ron a uno de nuestros militantes\" Javier ...     592.0      108411   \n",
       "2  El día que Milei debatió con Bullrich: \"Ustede...    1048.0      232416   \n",
       "3  Universitarios opinan sobre la propuesta educa...     379.0       75323   \n",
       "4  \"No me trates mal\" Milei se cruza con periodis...    2059.0      201391   \n",
       "\n",
       "  candidate_name  \n",
       "0          milei  \n",
       "1          milei  \n",
       "2          milei  \n",
       "3          milei  \n",
       "4          milei  "
      ]
     },
     "execution_count": 49,
     "metadata": {},
     "output_type": "execute_result"
    }
   ],
   "source": [
    "processor = YouTubeDataProcessor(\"../data/youtube_data\")\n",
    "df = processor.process_all_json_files()\n",
    "df.head()"
   ]
  },
  {
   "cell_type": "markdown",
   "metadata": {
    "id": "XwQ4-4BXzII8"
   },
   "source": [
    "## Filter based on duration (15 min > x > 120 min) and view count (+50)"
   ]
  },
  {
   "cell_type": "code",
   "execution_count": 50,
   "metadata": {
    "tags": []
   },
   "outputs": [],
   "source": [
    "channels = [\"Javier Milei\", \"Sergio Massa\", \"Patricia Bullrich\"]"
   ]
  },
  {
   "cell_type": "code",
   "execution_count": 51,
   "metadata": {
    "tags": []
   },
   "outputs": [
    {
     "data": {
      "text/plain": [
       "channel\n",
       "MILEI PRESIDENTE     520\n",
       "El Peluca Milei      220\n",
       "Javier Milei         117\n",
       "Sergio Massa          87\n",
       "Patricia Bullrich     54\n",
       "Name: count, dtype: int64"
      ]
     },
     "execution_count": 51,
     "metadata": {},
     "output_type": "execute_result"
    }
   ],
   "source": [
    "subset_df = df[(df.duration > 60*15) & (df.duration < 60*120) & (df.view_count > 50)].drop_duplicates(subset=['duration'])\n",
    "subset_df.channel.value_counts()"
   ]
  },
  {
   "cell_type": "markdown",
   "metadata": {},
   "source": [
    "## Export JSON"
   ]
  },
  {
   "cell_type": "code",
   "execution_count": 52,
   "metadata": {
    "tags": []
   },
   "outputs": [],
   "source": [
    "subset_df[subset_df[\"channel\"].isin(channels)].to_csv(save_dir/'data.csv', index=False)"
   ]
  },
  {
   "cell_type": "code",
   "execution_count": null,
   "metadata": {},
   "outputs": [],
   "source": []
  }
 ],
 "metadata": {
  "colab": {
   "provenance": []
  },
  "kernelspec": {
   "display_name": "conda_machinelearnear-dev",
   "language": "python",
   "name": "conda_machinelearnear-dev"
  },
  "language_info": {
   "codemirror_mode": {
    "name": "ipython",
    "version": 3
   },
   "file_extension": ".py",
   "mimetype": "text/x-python",
   "name": "python",
   "nbconvert_exporter": "python",
   "pygments_lexer": "ipython3",
   "version": "3.10.12"
  }
 },
 "nbformat": 4,
 "nbformat_minor": 4
}
