{
 "cells": [
  {
   "cell_type": "markdown",
   "metadata": {
    "tags": []
   },
   "source": [
    "# Extract video information from YouTube channels"
   ]
  },
  {
   "cell_type": "markdown",
   "metadata": {},
   "source": [
    "`yt-dlp` is a command-line program to download videos from YouTube and a few more sites, and it is a more feature-rich fork of `youtube-dl`. It can extract and provide information in various formats, including JSON.\n",
    "\n",
    "To use `yt-dlp` from within a Jupyter Notebook, you can use the `!` shell command magic. You've already provided an example of how you use yt-dlp to dump information in JSON format.\n",
    "\n",
    "To extract specific information such as video duration, title, URL, and views, you can follow these steps:\n",
    "\n",
    "- Use `yt-dlp` with `--dump-json` to retrieve the information in JSON format.\n",
    "- Parse the JSON output to filter and extract the desired fields."
   ]
  },
  {
   "cell_type": "code",
   "execution_count": 11,
   "metadata": {
    "tags": []
   },
   "outputs": [],
   "source": [
    "import shutil\n",
    "import json\n",
    "import yt_dlp\n",
    "import os\n",
    "import pandas as pd\n",
    "\n",
    "from pathlib import Path\n",
    "from tqdm import tqdm"
   ]
  },
  {
   "cell_type": "markdown",
   "metadata": {
    "tags": []
   },
   "source": [
    "# Extract info through YT search ie. candidate might not be the main speaker"
   ]
  },
  {
   "cell_type": "code",
   "execution_count": 2,
   "metadata": {
    "tags": []
   },
   "outputs": [],
   "source": [
    "mapping = {\n",
    "    \"milei presidente\": \"milei\",\n",
    "    \"el peluca milei\": \"milei\",\n",
    "    \"javier milei\": \"milei\",\n",
    "    \"sergio massa\": \"massa\",\n",
    "    \"patricia bullrich\": \"bullrich\",\n",
    "}"
   ]
  },
  {
   "cell_type": "code",
   "execution_count": 3,
   "metadata": {
    "tags": []
   },
   "outputs": [],
   "source": [
    "save_dir = Path(\"../data/youtube_search_data\")\n",
    "if save_dir.exists(): shutil.rmtree(save_dir)\n",
    "Path(save_dir).mkdir(parents=True, exist_ok=True)"
   ]
  },
  {
   "cell_type": "code",
   "execution_count": 4,
   "metadata": {
    "tags": []
   },
   "outputs": [],
   "source": [
    "search_these_names = [\"Javier Milei\", \"Sergio Massa\", \"Patricia Bullrich\"]\n",
    "URL = 'https://www.youtube.com/results?search_query=%22{}%22&sp=EgQQARgC'"
   ]
  },
  {
   "cell_type": "code",
   "execution_count": 5,
   "metadata": {
    "tags": []
   },
   "outputs": [],
   "source": [
    "def save_to_json(data, file_path):\n",
    "    \"\"\"\n",
    "    Save data to a JSON file.\n",
    "\n",
    "    Args:\n",
    "        data (dict): The data to save.\n",
    "        file_path (str): The path to the file where the data should be saved.\n",
    "    \"\"\"\n",
    "    with open(file_path, 'w') as json_file:\n",
    "        json.dump(data, json_file, indent=4)"
   ]
  },
  {
   "cell_type": "code",
   "execution_count": 6,
   "metadata": {
    "tags": []
   },
   "outputs": [
    {
     "name": "stderr",
     "output_type": "stream",
     "text": [
      "100%|██████████| 3/3 [00:46<00:00, 15.40s/it]\n"
     ]
    }
   ],
   "source": [
    "# see help(yt_dlp.YoutubeDL) for a list of available options and public functions\n",
    "\n",
    "for c in tqdm(search_these_names):\n",
    "    name = c.replace(' ','+').lower()\n",
    "    fname = f\"{save_dir}/{name}.json\"\n",
    "\n",
    "    ydl_opts = {\n",
    "        \"extract_flat\": True,\n",
    "        \"quiet\": True\n",
    "    }\n",
    "    with yt_dlp.YoutubeDL(ydl_opts) as ydl:\n",
    "        info = ydl.extract_info(\n",
    "            URL.format(name), download=False)\n",
    "        save_to_json(info, fname)"
   ]
  },
  {
   "cell_type": "markdown",
   "metadata": {},
   "source": [
    "## Read JSONs and concatenate files on a single `Pandas` dataframe"
   ]
  },
  {
   "cell_type": "markdown",
   "metadata": {},
   "source": [
    "### YouTubeDataProcessor\n",
    "\n",
    "The `YouTubeDataProcessor` class is designed to process and transform JSON data obtained from YouTube channels into a structured pandas DataFrame. This data, typically extracted using tools like `yt-dlp`, is organized in a manner that requires certain processing steps to be made suitable for data analysis.\n",
    "\n",
    "#### Features:\n",
    "\n",
    "1. **Directory-Based Processing**: \n",
    "   The class is initialized with a directory path containing the JSON files. It can process multiple JSON files from this directory and concatenate the results into a single dataframe.\n",
    "\n",
    "2. **Structured Data Transformation**: \n",
    "   The class handles various preprocessing steps:\n",
    "   - **Explosion of the `entries` Column**: Each JSON contains a key named `entries` that holds several entries. The class ensures that each entry gets its own row in the dataframe.\n",
    "   - **Column Renaming & Deletion**: Some columns are renamed for clarity, and others are dropped to clean the data.\n",
    "   - **Extraction of Nested Data**: Data nested within dictionaries is extracted into separate columns.\n",
    "   - **Column Filtering**: Only necessary columns are retained in the final dataframe for a concise output.\n",
    "\n",
    "#### Usage:\n",
    "\n",
    "Initialize the class with the directory containing your JSON files:\n",
    "\n",
    "```python\n",
    "processor = YouTubeDataProcessor(\"path_to_your_directory\")\n",
    "```\n",
    "\n",
    "Then, call the `process_all_json_files` method to process all JSON files and get the resulting dataframe:\n",
    "\n",
    "```\n",
    "df = processor.process_all_json_files()\n",
    "```"
   ]
  },
  {
   "cell_type": "code",
   "execution_count": 25,
   "metadata": {
    "tags": []
   },
   "outputs": [],
   "source": [
    "class YouTubeDataProcessor:\n",
    "    def __init__(self, directory):\n",
    "        self.directory = directory\n",
    "\n",
    "    def _json_to_df(self, fname):\n",
    "        with open(fname, 'r') as file:\n",
    "            data1 = json.load(file)\n",
    "\n",
    "        # exploding the 'entries' column\n",
    "        df_exploded = pd.DataFrame([data1]).explode('entries')\n",
    "\n",
    "        # keep only the desired columns and rename the 'title' column to 'search_term'\n",
    "        df_filtered = df_exploded[['title', 'extractor_key', 'entries']].rename(columns={'title': 'search_term'})\n",
    "\n",
    "        # extracting the dictionaries in the 'entries' column into separate columns\n",
    "        entries_df = df_filtered['entries'].apply(pd.Series)\n",
    "\n",
    "        # concatenating the original columns with the new columns from 'entries' & deleting duplicate cols\n",
    "        df = pd.concat([df_filtered.drop('entries', axis=1), entries_df], axis=1)\n",
    "        df = df.loc[:, ~df.columns.duplicated()].copy()\n",
    "\n",
    "        cols = [\n",
    "            \"search_term\",\n",
    "            # \"extractor_key\",\n",
    "            \"channel_id\",\n",
    "            \"channel\",\n",
    "            \"uploader_url\",\n",
    "            \"id\",\n",
    "            \"url\",\n",
    "            \"title\",\n",
    "            \"duration\",\n",
    "            \"view_count\",\n",
    "        ]\n",
    "\n",
    "        return df[cols]\n",
    "\n",
    "    def process_all_json_files(self):\n",
    "        # list all JSON files in the directory\n",
    "        all_files = [os.path.join(self.directory, fname) for fname in os.listdir(self.directory) if fname.endswith('.json')]\n",
    "\n",
    "        # convert each JSON file to a dataframe and store in a list\n",
    "        all_dfs = [self._json_to_df(fname) for fname in all_files]\n",
    "\n",
    "        # concatenate all dataframes into a single dataframe\n",
    "        final_df = pd.concat(all_dfs, ignore_index=True)\n",
    "\n",
    "        # add names\n",
    "        final_df['candidate_name'] = final_df['search_term'].str.replace('\"',\"\").map(mapping)\n",
    "\n",
    "        return final_df"
   ]
  },
  {
   "cell_type": "code",
   "execution_count": 27,
   "metadata": {
    "tags": []
   },
   "outputs": [
    {
     "data": {
      "text/html": [
       "<div>\n",
       "<style scoped>\n",
       "    .dataframe tbody tr th:only-of-type {\n",
       "        vertical-align: middle;\n",
       "    }\n",
       "\n",
       "    .dataframe tbody tr th {\n",
       "        vertical-align: top;\n",
       "    }\n",
       "\n",
       "    .dataframe thead th {\n",
       "        text-align: right;\n",
       "    }\n",
       "</style>\n",
       "<table border=\"1\" class=\"dataframe\">\n",
       "  <thead>\n",
       "    <tr style=\"text-align: right;\">\n",
       "      <th></th>\n",
       "      <th>search_term</th>\n",
       "      <th>channel_id</th>\n",
       "      <th>channel</th>\n",
       "      <th>uploader_url</th>\n",
       "      <th>id</th>\n",
       "      <th>url</th>\n",
       "      <th>title</th>\n",
       "      <th>duration</th>\n",
       "      <th>view_count</th>\n",
       "      <th>candidate_name</th>\n",
       "    </tr>\n",
       "  </thead>\n",
       "  <tbody>\n",
       "    <tr>\n",
       "      <th>0</th>\n",
       "      <td>\"sergio massa\"</td>\n",
       "      <td>UCj6PcyLvpnIRT_2W_mwa9Aw</td>\n",
       "      <td>Todo Noticias</td>\n",
       "      <td>https://www.youtube.com/@todonoticias</td>\n",
       "      <td>r_LjH59QgAs</td>\n",
       "      <td>https://www.youtube.com/watch?v=r_LjH59QgAs</td>\n",
       "      <td>Patricia Bullrich, Javier Milei y Sergio Massa...</td>\n",
       "      <td>5511.0</td>\n",
       "      <td>642300.0</td>\n",
       "      <td>massa</td>\n",
       "    </tr>\n",
       "    <tr>\n",
       "      <th>1</th>\n",
       "      <td>\"sergio massa\"</td>\n",
       "      <td>UCFgk2Q2mVO1BklRQhSv6p0w</td>\n",
       "      <td>C5N</td>\n",
       "      <td>https://www.youtube.com/@c5n</td>\n",
       "      <td>4K5UUfrOynU</td>\n",
       "      <td>https://www.youtube.com/watch?v=4K5UUfrOynU</td>\n",
       "      <td>SERGIO MASSA expuso en el CONSEJO de las AMÉRICAS</td>\n",
       "      <td>1641.0</td>\n",
       "      <td>24925.0</td>\n",
       "      <td>massa</td>\n",
       "    </tr>\n",
       "    <tr>\n",
       "      <th>2</th>\n",
       "      <td>\"sergio massa\"</td>\n",
       "      <td>UCFgk2Q2mVO1BklRQhSv6p0w</td>\n",
       "      <td>C5N</td>\n",
       "      <td>https://www.youtube.com/@c5n</td>\n",
       "      <td>WyBhiYbSBEs</td>\n",
       "      <td>https://www.youtube.com/watch?v=WyBhiYbSBEs</td>\n",
       "      <td>SERGIO MASSA en DURO DE DOMAR | ENTREVISTA COM...</td>\n",
       "      <td>3024.0</td>\n",
       "      <td>49156.0</td>\n",
       "      <td>massa</td>\n",
       "    </tr>\n",
       "    <tr>\n",
       "      <th>3</th>\n",
       "      <td>\"sergio massa\"</td>\n",
       "      <td>UCFgk2Q2mVO1BklRQhSv6p0w</td>\n",
       "      <td>C5N</td>\n",
       "      <td>https://www.youtube.com/@c5n</td>\n",
       "      <td>ELI3qGzOTOI</td>\n",
       "      <td>https://www.youtube.com/watch?v=ELI3qGzOTOI</td>\n",
       "      <td>Los ANUNCIOS de SERGIO MASSA: CONOCÉ las MEDID...</td>\n",
       "      <td>1205.0</td>\n",
       "      <td>49651.0</td>\n",
       "      <td>massa</td>\n",
       "    </tr>\n",
       "    <tr>\n",
       "      <th>4</th>\n",
       "      <td>\"sergio massa\"</td>\n",
       "      <td>UCFgk2Q2mVO1BklRQhSv6p0w</td>\n",
       "      <td>C5N</td>\n",
       "      <td>https://www.youtube.com/@c5n</td>\n",
       "      <td>WAa-PpXCwms</td>\n",
       "      <td>https://www.youtube.com/watch?v=WAa-PpXCwms</td>\n",
       "      <td>PPT: SERGIO MASSA, mano a mano con DADY BRIEVA...</td>\n",
       "      <td>2602.0</td>\n",
       "      <td>94227.0</td>\n",
       "      <td>massa</td>\n",
       "    </tr>\n",
       "  </tbody>\n",
       "</table>\n",
       "</div>"
      ],
      "text/plain": [
       "      search_term                channel_id        channel  \\\n",
       "0  \"sergio massa\"  UCj6PcyLvpnIRT_2W_mwa9Aw  Todo Noticias   \n",
       "1  \"sergio massa\"  UCFgk2Q2mVO1BklRQhSv6p0w            C5N   \n",
       "2  \"sergio massa\"  UCFgk2Q2mVO1BklRQhSv6p0w            C5N   \n",
       "3  \"sergio massa\"  UCFgk2Q2mVO1BklRQhSv6p0w            C5N   \n",
       "4  \"sergio massa\"  UCFgk2Q2mVO1BklRQhSv6p0w            C5N   \n",
       "\n",
       "                            uploader_url           id  \\\n",
       "0  https://www.youtube.com/@todonoticias  r_LjH59QgAs   \n",
       "1           https://www.youtube.com/@c5n  4K5UUfrOynU   \n",
       "2           https://www.youtube.com/@c5n  WyBhiYbSBEs   \n",
       "3           https://www.youtube.com/@c5n  ELI3qGzOTOI   \n",
       "4           https://www.youtube.com/@c5n  WAa-PpXCwms   \n",
       "\n",
       "                                           url  \\\n",
       "0  https://www.youtube.com/watch?v=r_LjH59QgAs   \n",
       "1  https://www.youtube.com/watch?v=4K5UUfrOynU   \n",
       "2  https://www.youtube.com/watch?v=WyBhiYbSBEs   \n",
       "3  https://www.youtube.com/watch?v=ELI3qGzOTOI   \n",
       "4  https://www.youtube.com/watch?v=WAa-PpXCwms   \n",
       "\n",
       "                                               title  duration  view_count  \\\n",
       "0  Patricia Bullrich, Javier Milei y Sergio Massa...    5511.0    642300.0   \n",
       "1  SERGIO MASSA expuso en el CONSEJO de las AMÉRICAS    1641.0     24925.0   \n",
       "2  SERGIO MASSA en DURO DE DOMAR | ENTREVISTA COM...    3024.0     49156.0   \n",
       "3  Los ANUNCIOS de SERGIO MASSA: CONOCÉ las MEDID...    1205.0     49651.0   \n",
       "4  PPT: SERGIO MASSA, mano a mano con DADY BRIEVA...    2602.0     94227.0   \n",
       "\n",
       "  candidate_name  \n",
       "0          massa  \n",
       "1          massa  \n",
       "2          massa  \n",
       "3          massa  \n",
       "4          massa  "
      ]
     },
     "execution_count": 27,
     "metadata": {},
     "output_type": "execute_result"
    }
   ],
   "source": [
    "processor = YouTubeDataProcessor(save_dir)\n",
    "df = processor.process_all_json_files()\n",
    "df.head()"
   ]
  },
  {
   "cell_type": "markdown",
   "metadata": {
    "id": "XwQ4-4BXzII8"
   },
   "source": [
    "## Filter based on duration (15 min > x > 120 min) and view count (+1,000)"
   ]
  },
  {
   "cell_type": "code",
   "execution_count": 28,
   "metadata": {
    "tags": []
   },
   "outputs": [
    {
     "data": {
      "text/plain": [
       "search_term\n",
       "\"sergio massa\"         382\n",
       "\"patricia bullrich\"    307\n",
       "\"javier milei\"         297\n",
       "Name: count, dtype: int64"
      ]
     },
     "execution_count": 28,
     "metadata": {},
     "output_type": "execute_result"
    }
   ],
   "source": [
    "subset_df = df[(df.duration > 60*15) & (df.duration < 60*120) & (df.view_count > 100)].drop_duplicates(subset=['duration'])\n",
    "subset_df.search_term.value_counts()"
   ]
  },
  {
   "cell_type": "markdown",
   "metadata": {},
   "source": [
    "## Export JSON"
   ]
  },
  {
   "cell_type": "code",
   "execution_count": 29,
   "metadata": {
    "tags": []
   },
   "outputs": [],
   "source": [
    "subset_df.to_csv(save_dir/'data.csv', index=False)"
   ]
  },
  {
   "cell_type": "code",
   "execution_count": null,
   "metadata": {},
   "outputs": [],
   "source": []
  }
 ],
 "metadata": {
  "colab": {
   "provenance": []
  },
  "kernelspec": {
   "display_name": "conda_machinelearnear-dev",
   "language": "python",
   "name": "conda_machinelearnear-dev"
  },
  "language_info": {
   "codemirror_mode": {
    "name": "ipython",
    "version": 3
   },
   "file_extension": ".py",
   "mimetype": "text/x-python",
   "name": "python",
   "nbconvert_exporter": "python",
   "pygments_lexer": "ipython3",
   "version": "3.10.12"
  }
 },
 "nbformat": 4,
 "nbformat_minor": 4
}
