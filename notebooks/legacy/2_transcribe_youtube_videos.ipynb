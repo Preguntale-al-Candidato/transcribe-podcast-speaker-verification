{
 "cells": [
  {
   "cell_type": "markdown",
   "metadata": {
    "id": "3TkBM6oS7ROk"
   },
   "source": [
    "# 🧉 Transcribir podcast con timestamps, identificar multiples speakers, y extraer el texto de uno solo\n",
    "- **machinelearnear** 📺 https://www.youtube.com/c/machinelearnear"
   ]
  },
  {
   "cell_type": "markdown",
   "metadata": {
    "id": "TDXxHfxH1Vzt"
   },
   "source": [
    "### definir input"
   ]
  },
  {
   "cell_type": "code",
   "execution_count": null,
   "metadata": {
    "id": "LlAs6-C_1KfN"
   },
   "outputs": [],
   "source": [
    "hf_token = \"<aca-va-el-hf-token>\" # https://huggingface.co/settings/tokens\n",
    "youtube_video = 'https://www.youtube.com/watch?v=MZEnIUQGuDg&ab_channel=ElPelucaMilei' # El Método Rebord #48 - Alejandro Dolina\n",
    "youtube_video_candidato = 'https://www.youtube.com/shorts/7iztngtoe-0' # shorts, <= 60 segundos"
   ]
  },
  {
   "cell_type": "markdown",
   "metadata": {
    "id": "RxxNYfrT8MHh"
   },
   "source": [
    "### instalar las cosas"
   ]
  },
  {
   "cell_type": "code",
   "execution_count": null,
   "metadata": {
    "id": "psb7KUiJ6dwk"
   },
   "outputs": [],
   "source": [
    "!pip install git+https://github.com/m-bain/whisperx.git;\n",
    "!python3 -m pip install -U yt-dlp;"
   ]
  },
  {
   "cell_type": "markdown",
   "metadata": {
    "id": "E3Trcf6-8TJV"
   },
   "source": [
    "### download del video desde YT"
   ]
  },
  {
   "cell_type": "code",
   "execution_count": null,
   "metadata": {
    "id": "cq7d7TbQ8ooG"
   },
   "outputs": [],
   "source": [
    "!python -m yt_dlp --output \"audio.%(ext)s\" --extract-audio --audio-format wav $youtube_video"
   ]
  },
  {
   "cell_type": "markdown",
   "metadata": {
    "id": "iPiU1e9FreCp"
   },
   "source": [
    "### transcribir y hacer speaker diarization"
   ]
  },
  {
   "cell_type": "code",
   "execution_count": null,
   "metadata": {
    "id": "ejlTXf1u7QFz"
   },
   "outputs": [],
   "source": [
    "!whisperx audio.wav --hf_token $hf_token --model large-v2 --language es --align_model WAV2VEC2_ASR_LARGE_LV60K_960H --diarize --min_speakers 2"
   ]
  },
  {
   "cell_type": "markdown",
   "metadata": {
    "id": "n14ON_jhAJ3v"
   },
   "source": [
    "### mergear segmentos basandonos en los speakers"
   ]
  },
  {
   "cell_type": "code",
   "execution_count": null,
   "metadata": {
    "id": "JiKJFz-3OwAW"
   },
   "outputs": [],
   "source": [
    "import json\n",
    "\n",
    "# Load the JSON file\n",
    "with open(\"audio.json\", \"r\") as file:\n",
    "    data = json.load(file)"
   ]
  },
  {
   "cell_type": "code",
   "execution_count": null,
   "metadata": {
    "id": "RjkKD1CmLSKk"
   },
   "outputs": [],
   "source": [
    "data['segments'][0]['speaker']"
   ]
  },
  {
   "cell_type": "markdown",
   "metadata": {
    "id": "iw2QcyaY6FvK",
    "tags": []
   },
   "source": [
    "### hacer speaker verification tomando un clip de audio del candidato como baseline"
   ]
  },
  {
   "cell_type": "code",
   "execution_count": null,
   "metadata": {
    "id": "hCdr1h5m8bLd"
   },
   "outputs": [],
   "source": [
    "!python -m yt_dlp --output \"audio_candidato.%(ext)s\" --extract-audio --audio-format wav $youtube_video_candidato"
   ]
  },
  {
   "cell_type": "code",
   "execution_count": null,
   "metadata": {
    "id": "TtA30giZN27I"
   },
   "outputs": [],
   "source": [
    "import torch\n",
    "from pyannote.audio.pipelines.speaker_verification import PretrainedSpeakerEmbedding\n",
    "model = PretrainedSpeakerEmbedding(\n",
    "    \"speechbrain/spkrec-ecapa-voxceleb\",\n",
    "    device=torch.device(\"cuda\"))"
   ]
  },
  {
   "cell_type": "code",
   "execution_count": null,
   "metadata": {
    "id": "hqjFq4_AOBi3"
   },
   "outputs": [],
   "source": [
    "from pyannote.audio import Audio\n",
    "from pyannote.core import Segment\n",
    "from scipy.spatial.distance import cdist\n",
    "\n",
    "audio = Audio(sample_rate=16000, mono=\"downmix\")"
   ]
  },
  {
   "cell_type": "code",
   "execution_count": null,
   "metadata": {
    "id": "EIG3SgzwOPHQ"
   },
   "outputs": [],
   "source": [
    "# extract embedding for a speaker speaking between t=3s and t=6s\n",
    "candidato = Segment(1., 15.)\n",
    "waveform_candidato, sample_rate = audio.crop(\"audio_candidato.wav\", candidato)\n",
    "embedding_candidato = model(waveform_candidato[None])"
   ]
  },
  {
   "cell_type": "code",
   "execution_count": null,
   "metadata": {
    "id": "uN1PmBdjUoaQ"
   },
   "outputs": [],
   "source": [
    "import time\n",
    "\n",
    "stime = time.time()"
   ]
  },
  {
   "cell_type": "code",
   "execution_count": null,
   "metadata": {
    "id": "l-2jbOb3Ohoe"
   },
   "outputs": [],
   "source": [
    "import time\n",
    "\n",
    "stime = time.time()\n",
    "\n",
    "for segment in data['segments']:\n",
    "  # extract embedding for a speaker speaking between t=Xs and t=Ys\n",
    "  target_speaker = Segment(segment['start'], segment['end'])\n",
    "  waveform_target, sample_rate = audio.crop(\"audio.wav\", target_speaker)\n",
    "  embedding_target = model(waveform_target[None])\n",
    "\n",
    "  # compare embeddings using \"cosine\" distance\n",
    "  distance = cdist(embedding_candidato, embedding_target, metric=\"cosine\")\n",
    "\n",
    "  # save back the info to the dict\n",
    "  segment['is_candidate'] = True if distance[0][0] <= 0.5 else False\n",
    "\n",
    "print(f'total time: {time.time()-stime:.2f} seconds')"
   ]
  },
  {
   "cell_type": "code",
   "execution_count": null,
   "metadata": {
    "id": "nRGxPYtJULhG"
   },
   "outputs": [],
   "source": [
    "for segment in data['segments']:\n",
    "  if segment['is_candidate']:\n",
    "    print(f\"Start: {segment['start']}, End: {segment['end']}, Text: {segment['text'].strip()}\")"
   ]
  }
 ],
 "metadata": {
  "accelerator": "GPU",
  "colab": {
   "name": "detect_custom_speaker_from_podcast.ipynb",
   "provenance": []
  },
  "gpuClass": "standard",
  "kernelspec": {
   "display_name": "conda_machinelearnear-dev",
   "language": "python",
   "name": "conda_machinelearnear-dev"
  },
  "language_info": {
   "codemirror_mode": {
    "name": "ipython",
    "version": 3
   },
   "file_extension": ".py",
   "mimetype": "text/x-python",
   "name": "python",
   "nbconvert_exporter": "python",
   "pygments_lexer": "ipython3",
   "version": "3.10.12"
  }
 },
 "nbformat": 4,
 "nbformat_minor": 4
}
